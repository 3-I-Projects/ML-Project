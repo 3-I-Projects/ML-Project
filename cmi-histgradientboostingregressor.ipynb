{
 "cells": [
  {
   "cell_type": "markdown",
   "id": "f965154b",
   "metadata": {},
   "source": [
    "Just some initial research"
   ]
  },
  {
   "cell_type": "code",
   "execution_count": 1,
   "id": "daeb0116",
   "metadata": {
    "execution": {
     "iopub.execute_input": "2024-12-19T15:40:06.700872Z",
     "iopub.status.busy": "2024-12-19T15:40:06.700510Z",
     "iopub.status.idle": "2024-12-19T15:40:06.706204Z",
     "shell.execute_reply": "2024-12-19T15:40:06.705327Z"
    },
    "papermill": {
     "duration": 0.012618,
     "end_time": "2024-12-19T15:40:06.708182",
     "exception": false,
     "start_time": "2024-12-19T15:40:06.695564",
     "status": "completed"
    },
    "tags": []
   },
   "outputs": [],
   "source": [
    "#from sklearn.datasets import make_hastie_10_2\n",
    "\n",
    "#X, y = make_hastie_10_2(random_state=0)\n",
    "#print(type(X))\n",
    "#print(type(y))\n",
    "#X_train, X_test = X[:2000], X[2000:]\n",
    "#y_train, y_test = y[:2000], y[2000:]\n",
    "\n",
    "#clf = HistGradientBoostingRegressor(max_iter=100).fit(X_train, y_train)\n",
    "#clf.score(X_test, y_test)\n",
    "#X_to_predict = [[1.76405235, 0.40015721, 0.97873798, 2.2408932, 1.86755799, -0.97727788, 0.95008842, -0.15135721, -0.10321885, 0.4105985]]\n",
    "#print(X_to_predict)\n",
    "#clf.predict(X_to_predict)"
   ]
  },
  {
   "cell_type": "markdown",
   "id": "89220a59",
   "metadata": {},
   "source": [
    "# Importing necessary libraries and load the data"
   ]
  },
  {
   "cell_type": "code",
   "execution_count": 2,
   "id": "6195cf99",
   "metadata": {
    "_cell_guid": "b1076dfc-b9ad-4769-8c92-a6c4dae69d19",
    "_uuid": "8f2839f25d086af736a60e9eeb907d3b93b6e0e5",
    "execution": {
     "iopub.execute_input": "2024-12-19T15:40:06.715256Z",
     "iopub.status.busy": "2024-12-19T15:40:06.714923Z",
     "iopub.status.idle": "2024-12-19T15:40:07.722952Z",
     "shell.execute_reply": "2024-12-19T15:40:07.721984Z"
    },
    "papermill": {
     "duration": 1.014232,
     "end_time": "2024-12-19T15:40:07.725408",
     "exception": false,
     "start_time": "2024-12-19T15:40:06.711176",
     "status": "completed"
    },
    "tags": []
   },
   "outputs": [],
   "source": [
    "import numpy as np # linear algebra\n",
    "import pandas as pd # data processing, CSV file I/O (e.g. pd.read_csv)\n",
    "\n",
    "#import os\n",
    "#for dirname, _, filenames in os.walk('/kaggle/input'):\n",
    "#    for filename in filenames:\n",
    "#        print(os.path.join(dirname, filename))\n",
    "\n",
    "# configs\n",
    "pd.set_option('display.max_columns', None) # we want to display all columns in this notebook\n",
    "pd.set_option('display.max_rows', 100) # increase rows to be displayed\n",
    "pd.set_option('display.max_colwidth', None) # show full cell contents\n",
    "\n",
    "df_train = pd.read_csv('../input/child-mind-institute-problematic-internet-use/train.csv')\n",
    "df_test = pd.read_csv('../input/child-mind-institute-problematic-internet-use/test.csv')\n",
    "df_sub = pd.read_csv('../input/child-mind-institute-problematic-internet-use/sample_submission.csv')\n",
    "df_dict = pd.read_csv('../input/child-mind-institute-problematic-internet-use/data_dictionary.csv')"
   ]
  },
  {
   "cell_type": "markdown",
   "id": "8a3c18d8",
   "metadata": {},
   "source": [
    "# Save all categorical features into a list\n",
    "These features are saved to a list. This list will be used later."
   ]
  },
  {
   "cell_type": "code",
   "execution_count": 3,
   "id": "56342bf4",
   "metadata": {
    "execution": {
     "iopub.execute_input": "2024-12-19T15:40:07.732322Z",
     "iopub.status.busy": "2024-12-19T15:40:07.731968Z",
     "iopub.status.idle": "2024-12-19T15:40:07.744813Z",
     "shell.execute_reply": "2024-12-19T15:40:07.743826Z"
    },
    "papermill": {
     "duration": 0.018759,
     "end_time": "2024-12-19T15:40:07.747050",
     "exception": false,
     "start_time": "2024-12-19T15:40:07.728291",
     "status": "completed"
    },
    "tags": []
   },
   "outputs": [],
   "source": [
    "categorical_features = []\n",
    "\n",
    "for i in range(1, 81):\n",
    "    sample_type = df_dict.iloc[i]['Type']\n",
    "    if 'str' in sample_type:\n",
    "        #categorical_features.append(i-1)\n",
    "        categorical_features.append(df_dict.iloc[i]['Field'])\n",
    "\n",
    "# include PCIAT_Season feature or not\n",
    "categorical_features.remove('PCIAT-Season')\n",
    "#print(categorical_features)"
   ]
  },
  {
   "cell_type": "markdown",
   "id": "612d444e",
   "metadata": {},
   "source": [
    "# Save all PCIAT features into a list\n",
    "These features are saved to a list. This list will be used later."
   ]
  },
  {
   "cell_type": "code",
   "execution_count": 4,
   "id": "6b501544",
   "metadata": {
    "execution": {
     "iopub.execute_input": "2024-12-19T15:40:07.754134Z",
     "iopub.status.busy": "2024-12-19T15:40:07.753811Z",
     "iopub.status.idle": "2024-12-19T15:40:07.762217Z",
     "shell.execute_reply": "2024-12-19T15:40:07.761284Z"
    },
    "papermill": {
     "duration": 0.013787,
     "end_time": "2024-12-19T15:40:07.764297",
     "exception": false,
     "start_time": "2024-12-19T15:40:07.750510",
     "status": "completed"
    },
    "tags": []
   },
   "outputs": [
    {
     "name": "stdout",
     "output_type": "stream",
     "text": [
      "['PCIAT-Season', 'PCIAT-PCIAT_01', 'PCIAT-PCIAT_02', 'PCIAT-PCIAT_03', 'PCIAT-PCIAT_04', 'PCIAT-PCIAT_05', 'PCIAT-PCIAT_06', 'PCIAT-PCIAT_07', 'PCIAT-PCIAT_08', 'PCIAT-PCIAT_09', 'PCIAT-PCIAT_10', 'PCIAT-PCIAT_11', 'PCIAT-PCIAT_12', 'PCIAT-PCIAT_13', 'PCIAT-PCIAT_14', 'PCIAT-PCIAT_15', 'PCIAT-PCIAT_16', 'PCIAT-PCIAT_17', 'PCIAT-PCIAT_18', 'PCIAT-PCIAT_19', 'PCIAT-PCIAT_20', 'PCIAT-PCIAT_Total']\n"
     ]
    }
   ],
   "source": [
    "pciat_features = []\n",
    "\n",
    "for i in range(1, 81):\n",
    "    sample_type = df_dict.iloc[i]['Field']\n",
    "    if 'PCIAT' in sample_type:\n",
    "        #categorical_features.append(i-1)\n",
    "        pciat_features.append(df_dict.iloc[i]['Field'])\n",
    "\n",
    "# include PCIAT_Season feature or not\n",
    "#pciat_features.remove('PCIAT-Season')\n",
    "\n",
    "# this make model overfit\n",
    "# pciat_features.remove('PCIAT-PCIAT_Total')\n",
    "\n",
    "print(pciat_features)"
   ]
  },
  {
   "cell_type": "markdown",
   "id": "e82b1d0b",
   "metadata": {},
   "source": [
    "# Clean up the train set\n",
    "The train set needs some modifications before being fed to the model. First, drop all data samples with no sii as these samples has no contribution to the prediction. Next, drop the irrelevant column - id. Finally, drop all PCIAT features and categorical features. We tried using the one-hot edcoding method to handle the categorical features but it did not improve much. Therefore, these features are dropped. In method 1, we tried predicting sii without PCIAT features, so we also dropped these features."
   ]
  },
  {
   "cell_type": "code",
   "execution_count": 5,
   "id": "87d97c58",
   "metadata": {
    "execution": {
     "iopub.execute_input": "2024-12-19T15:40:07.771852Z",
     "iopub.status.busy": "2024-12-19T15:40:07.771543Z",
     "iopub.status.idle": "2024-12-19T15:40:07.787999Z",
     "shell.execute_reply": "2024-12-19T15:40:07.787086Z"
    },
    "papermill": {
     "duration": 0.022122,
     "end_time": "2024-12-19T15:40:07.790096",
     "exception": false,
     "start_time": "2024-12-19T15:40:07.767974",
     "status": "completed"
    },
    "tags": []
   },
   "outputs": [],
   "source": [
    "df_train = df_train.dropna(subset=['sii']).drop(columns=['id'] + pciat_features + categorical_features)"
   ]
  },
  {
   "cell_type": "markdown",
   "id": "59c049d6",
   "metadata": {},
   "source": [
    "# Start training the model\n",
    "Here, we used the HistGradientBoostingRegressor model for the problem and MSE to evaluate it."
   ]
  },
  {
   "cell_type": "code",
   "execution_count": 6,
   "id": "e7e7a85d",
   "metadata": {
    "execution": {
     "iopub.execute_input": "2024-12-19T15:40:07.796776Z",
     "iopub.status.busy": "2024-12-19T15:40:07.796440Z",
     "iopub.status.idle": "2024-12-19T15:40:10.308388Z",
     "shell.execute_reply": "2024-12-19T15:40:10.307660Z"
    },
    "papermill": {
     "duration": 2.518033,
     "end_time": "2024-12-19T15:40:10.310929",
     "exception": false,
     "start_time": "2024-12-19T15:40:07.792896",
     "status": "completed"
    },
    "tags": []
   },
   "outputs": [
    {
     "data": {
      "text/plain": [
       "0.5264200503605809"
      ]
     },
     "execution_count": 6,
     "metadata": {},
     "output_type": "execute_result"
    }
   ],
   "source": [
    "from sklearn.ensemble import HistGradientBoostingRegressor\n",
    "from sklearn.model_selection import train_test_split\n",
    "from sklearn.metrics import cohen_kappa_score\n",
    "\n",
    "\n",
    "def quadratic_weighted_kappa(y_true, y_pred):\n",
    "    return cohen_kappa_score(y_true, y_pred, weights='quadratic')\n",
    "\n",
    "#df_train = pd.get_dummies(df_train, columns=categorical_features)\n",
    "\n",
    "y = df_train.sii\n",
    "X = df_train.drop(columns = ['sii'])\n",
    "\n",
    "#print(X.info())\n",
    "\n",
    "X_train, X_val, y_train, y_val = train_test_split(X, y, random_state=0)\n",
    "model = HistGradientBoostingRegressor(max_iter=100).fit(X_train, y_train)\n",
    "\n",
    "#model.score(X_val, y_val)\n",
    "pred = model.predict(X_val)\n",
    "quadratic_weighted_kappa(y_val, pred)"
   ]
  },
  {
   "cell_type": "markdown",
   "id": "561c72df",
   "metadata": {},
   "source": [
    "# Clean up the test set\n",
    "Just like the train set, we drop irrelevant column 'id' and all the categorical features. The PCIAT features aren't in the test set."
   ]
  },
  {
   "cell_type": "code",
   "execution_count": 7,
   "id": "297ff94f",
   "metadata": {
    "execution": {
     "iopub.execute_input": "2024-12-19T15:40:10.322494Z",
     "iopub.status.busy": "2024-12-19T15:40:10.322027Z",
     "iopub.status.idle": "2024-12-19T15:40:10.327819Z",
     "shell.execute_reply": "2024-12-19T15:40:10.326814Z"
    },
    "papermill": {
     "duration": 0.012171,
     "end_time": "2024-12-19T15:40:10.329658",
     "exception": false,
     "start_time": "2024-12-19T15:40:10.317487",
     "status": "completed"
    },
    "tags": []
   },
   "outputs": [],
   "source": [
    "cleaned_df_test = df_test.drop(columns=['id'] + categorical_features)"
   ]
  },
  {
   "cell_type": "markdown",
   "id": "d7802198",
   "metadata": {},
   "source": [
    "# Predict the test set\n",
    "The data in the test set is predicted here."
   ]
  },
  {
   "cell_type": "code",
   "execution_count": 8,
   "id": "7bcce8d4",
   "metadata": {
    "_kg_hide-input": false,
    "execution": {
     "iopub.execute_input": "2024-12-19T15:40:10.336344Z",
     "iopub.status.busy": "2024-12-19T15:40:10.336007Z",
     "iopub.status.idle": "2024-12-19T15:40:10.349730Z",
     "shell.execute_reply": "2024-12-19T15:40:10.348453Z"
    },
    "papermill": {
     "duration": 0.01946,
     "end_time": "2024-12-19T15:40:10.351835",
     "exception": false,
     "start_time": "2024-12-19T15:40:10.332375",
     "status": "completed"
    },
    "tags": []
   },
   "outputs": [
    {
     "name": "stdout",
     "output_type": "stream",
     "text": [
      "[1 0 0 1 1 1 0 0 1 0 1 0 1 0 1 1 0 0 1 1]\n",
      "0     0\n",
      "1     1\n",
      "2     2\n",
      "3     3\n",
      "4     0\n",
      "5     1\n",
      "6     2\n",
      "7     3\n",
      "8     0\n",
      "9     1\n",
      "10    2\n",
      "11    3\n",
      "12    0\n",
      "13    1\n",
      "14    2\n",
      "15    3\n",
      "16    0\n",
      "17    1\n",
      "18    2\n",
      "19    3\n",
      "Name: sii, dtype: int64\n"
     ]
    }
   ],
   "source": [
    "#df_test = pd.get_dummies(df_test, columns=categorical_features)\n",
    "\n",
    "#print(df_test.info())\n",
    "\n",
    "X_test = cleaned_df_test\n",
    "y_test = df_sub.sii\n",
    "\n",
    "pred = model.predict(X_test)\n",
    "pred = pred.round().astype(int)\n",
    "print(pred)\n",
    "print(y_test)\n",
    "#mean_absolute_error(pred, y_test)"
   ]
  },
  {
   "cell_type": "markdown",
   "id": "a87dbe72",
   "metadata": {},
   "source": [
    "# Prepare file for submission\n",
    "Export the predicted data to a file, ready for submission."
   ]
  },
  {
   "cell_type": "code",
   "execution_count": 9,
   "id": "57b4cc12",
   "metadata": {
    "execution": {
     "iopub.execute_input": "2024-12-19T15:40:10.360014Z",
     "iopub.status.busy": "2024-12-19T15:40:10.359708Z",
     "iopub.status.idle": "2024-12-19T15:40:10.367864Z",
     "shell.execute_reply": "2024-12-19T15:40:10.366956Z"
    },
    "papermill": {
     "duration": 0.014605,
     "end_time": "2024-12-19T15:40:10.369905",
     "exception": false,
     "start_time": "2024-12-19T15:40:10.355300",
     "status": "completed"
    },
    "tags": []
   },
   "outputs": [],
   "source": [
    "# Save test predictions to file\n",
    "output = pd.DataFrame({'id': df_test.id.values,\n",
    "                       'sii': pred.round().astype(int)})\n",
    "output.to_csv('submission.csv', index=False)"
   ]
  }
 ],
 "metadata": {
  "kaggle": {
   "accelerator": "none",
   "dataSources": [
    {
     "databundleVersionId": 9643020,
     "sourceId": 81933,
     "sourceType": "competition"
    }
   ],
   "dockerImageVersionId": 30804,
   "isGpuEnabled": false,
   "isInternetEnabled": false,
   "language": "python",
   "sourceType": "notebook"
  },
  "kernelspec": {
   "display_name": "Python 3",
   "language": "python",
   "name": "python3"
  },
  "language_info": {
   "codemirror_mode": {
    "name": "ipython",
    "version": 3
   },
   "file_extension": ".py",
   "mimetype": "text/x-python",
   "name": "python",
   "nbconvert_exporter": "python",
   "pygments_lexer": "ipython3",
   "version": "3.10.14"
  },
  "papermill": {
   "default_parameters": {},
   "duration": 7.401816,
   "end_time": "2024-12-19T15:40:10.993716",
   "environment_variables": {},
   "exception": null,
   "input_path": "__notebook__.ipynb",
   "output_path": "__notebook__.ipynb",
   "parameters": {},
   "start_time": "2024-12-19T15:40:03.591900",
   "version": "2.6.0"
  }
 },
 "nbformat": 4,
 "nbformat_minor": 5
}
