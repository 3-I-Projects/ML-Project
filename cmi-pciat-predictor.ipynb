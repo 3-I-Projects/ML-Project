{
 "cells": [
  {
   "cell_type": "code",
   "execution_count": 1,
   "id": "97978ff6",
   "metadata": {
    "execution": {
     "iopub.execute_input": "2024-12-22T11:10:33.521217Z",
     "iopub.status.busy": "2024-12-22T11:10:33.520754Z",
     "iopub.status.idle": "2024-12-22T11:10:38.786562Z",
     "shell.execute_reply": "2024-12-22T11:10:38.785558Z"
    },
    "papermill": {
     "duration": 5.278664,
     "end_time": "2024-12-22T11:10:38.789145",
     "exception": false,
     "start_time": "2024-12-22T11:10:33.510481",
     "status": "completed"
    },
    "tags": []
   },
   "outputs": [],
   "source": [
    "import numpy as np\n",
    "import pandas as pd\n",
    "from sklearn.tree import DecisionTreeRegressor\n",
    "from sklearn.ensemble import RandomForestRegressor, RandomForestClassifier, VotingRegressor, HistGradientBoostingRegressor\n",
    "from sklearn.feature_selection import mutual_info_regression\n",
    "from sklearn.model_selection import train_test_split, cross_val_score, StratifiedKFold\n",
    "from sklearn.metrics import mean_absolute_error, mean_squared_error, confusion_matrix, classification_report, cohen_kappa_score\n",
    "from sklearn.impute import SimpleImputer, KNNImputer\n",
    "from sklearn.preprocessing import OneHotEncoder, OrdinalEncoder, StandardScaler\n",
    "from sklearn.compose import ColumnTransformer\n",
    "from sklearn.pipeline import Pipeline\n",
    "from sklearn.preprocessing import minmax_scale\n",
    "from sklearn.svm import SVC, SVR\n",
    "from sklearn.neighbors import KNeighborsRegressor, KNeighborsClassifier\n",
    "from sklearn.decomposition import PCA\n",
    "from sklearn.base import BaseEstimator,TransformerMixin\n",
    "from xgboost import XGBRegressor, XGBClassifier\n",
    "from lightgbm import LGBMRegressor\n",
    "from xgboost import XGBRegressor, plot_importance\n",
    "from catboost import CatBoostRegressor\n",
    "import matplotlib.pyplot as plt\n",
    "import seaborn as sns\n",
    "\n",
    "child_mind_train_path = '/kaggle/input/child-mind-institute-problematic-internet-use/train.csv'\n",
    "train = pd.read_csv(child_mind_train_path)\n",
    "child_mind_test_path = '/kaggle/input/child-mind-institute-problematic-internet-use/test.csv'\n",
    "test = pd.read_csv(child_mind_test_path)\n",
    "\n",
    "# large_na_features = train.count().sort_values(ascending=True)[0:11].keys()\n",
    "# train.count().sort_values(ascending=True)[0:11]\n",
    "# train.sii.isna().sum()"
   ]
  },
  {
   "cell_type": "markdown",
   "id": "1bdfea31",
   "metadata": {
    "papermill": {
     "duration": 0.00791,
     "end_time": "2024-12-22T11:10:38.805598",
     "exception": false,
     "start_time": "2024-12-22T11:10:38.797688",
     "status": "completed"
    },
    "tags": []
   },
   "source": [
    "### This is seperating out the intermediate features that are not in the test set, so that they can be used for fitting and prediction later"
   ]
  },
  {
   "cell_type": "code",
   "execution_count": 2,
   "id": "172895a7",
   "metadata": {
    "execution": {
     "iopub.execute_input": "2024-12-22T11:10:38.824292Z",
     "iopub.status.busy": "2024-12-22T11:10:38.823902Z",
     "iopub.status.idle": "2024-12-22T11:10:38.830721Z",
     "shell.execute_reply": "2024-12-22T11:10:38.829540Z"
    },
    "papermill": {
     "duration": 0.018349,
     "end_time": "2024-12-22T11:10:38.833005",
     "exception": false,
     "start_time": "2024-12-22T11:10:38.814656",
     "status": "completed"
    },
    "tags": []
   },
   "outputs": [],
   "source": [
    "features_not_in_test = pd.Index(['PCIAT-Season', 'PCIAT-PCIAT_01', 'PCIAT-PCIAT_02', 'PCIAT-PCIAT_03', 'PCIAT-PCIAT_04',\n",
    "                    'PCIAT-PCIAT_05', 'PCIAT-PCIAT_06', 'PCIAT-PCIAT_07', 'PCIAT-PCIAT_08', 'PCIAT-PCIAT_09',\n",
    "                    'PCIAT-PCIAT_10', 'PCIAT-PCIAT_11', 'PCIAT-PCIAT_12', 'PCIAT-PCIAT_13',\n",
    "                    'PCIAT-PCIAT_14', 'PCIAT-PCIAT_15', 'PCIAT-PCIAT_16', 'PCIAT-PCIAT_17', 'PCIAT-PCIAT_18',\n",
    "                    'PCIAT-PCIAT_19', 'PCIAT-PCIAT_20', 'PCIAT-PCIAT_Total'])\n",
    "intermediates = pd.Index(['PCIAT-PCIAT_01', 'PCIAT-PCIAT_02', 'PCIAT-PCIAT_03', 'PCIAT-PCIAT_04',\n",
    "                    'PCIAT-PCIAT_05', 'PCIAT-PCIAT_06', 'PCIAT-PCIAT_07', 'PCIAT-PCIAT_08', 'PCIAT-PCIAT_09',\n",
    "                    'PCIAT-PCIAT_10', 'PCIAT-PCIAT_11', 'PCIAT-PCIAT_12', 'PCIAT-PCIAT_13',\n",
    "                    'PCIAT-PCIAT_14', 'PCIAT-PCIAT_15', 'PCIAT-PCIAT_16', 'PCIAT-PCIAT_17', 'PCIAT-PCIAT_18',\n",
    "                    'PCIAT-PCIAT_19', 'PCIAT-PCIAT_20'])"
   ]
  },
  {
   "cell_type": "code",
   "execution_count": 3,
   "id": "16078962",
   "metadata": {
    "execution": {
     "iopub.execute_input": "2024-12-22T11:10:38.852024Z",
     "iopub.status.busy": "2024-12-22T11:10:38.851580Z",
     "iopub.status.idle": "2024-12-22T11:10:38.856558Z",
     "shell.execute_reply": "2024-12-22T11:10:38.855295Z"
    },
    "jupyter": {
     "source_hidden": true
    },
    "papermill": {
     "duration": 0.018211,
     "end_time": "2024-12-22T11:10:38.859266",
     "exception": false,
     "start_time": "2024-12-22T11:10:38.841055",
     "status": "completed"
    },
    "tags": []
   },
   "outputs": [],
   "source": [
    "# pd.concat([train[features_not_in_test], train['sii']], axis=1).dropna(subset='sii').drop('PCIAT-Season', axis=1).corr()\n",
    "# # train[*features_not_in_test, 'sii']\n",
    "# # train['sii'].dropna().count()\n",
    "# # train['PCIAT-PCIAT_Total'].dropna().count()\n",
    "# plt.figure(figsize=(14,5))\n",
    "# sns.heatmap(pd.concat([train[features_not_in_test], train['sii']], axis=1).dropna(subset='sii').drop('PCIAT-Season', axis=1).corr(), annot=True)"
   ]
  },
  {
   "cell_type": "code",
   "execution_count": 4,
   "id": "0c134789",
   "metadata": {
    "execution": {
     "iopub.execute_input": "2024-12-22T11:10:38.877256Z",
     "iopub.status.busy": "2024-12-22T11:10:38.876811Z",
     "iopub.status.idle": "2024-12-22T11:10:38.894825Z",
     "shell.execute_reply": "2024-12-22T11:10:38.893379Z"
    },
    "jupyter": {
     "source_hidden": true
    },
    "papermill": {
     "duration": 0.030038,
     "end_time": "2024-12-22T11:10:38.897384",
     "exception": false,
     "start_time": "2024-12-22T11:10:38.867346",
     "status": "completed"
    },
    "tags": []
   },
   "outputs": [],
   "source": [
    "def make_mi_scores(X, y, discrete_features):\n",
    "    mi_scores = mutual_info_regression(X=X, y=y, discrete_features=discrete_features)\n",
    "    mi_scores = pd.Series(mi_scores, name=\"MI Scores\", index=X.columns)\n",
    "    mi_scores = mi_scores.sort_values(ascending=False)\n",
    "    return mi_scores\n",
    "    \n",
    "def plot_mi_scores(scores):\n",
    "    scores = scores.sort_values(ascending=True)\n",
    "    width = np.arange(len(scores))\n",
    "    ticks = list(scores.index)\n",
    "    plt.barh(width, scores)\n",
    "    plt.yticks(width, ticks)\n",
    "    plt.title(\"Mutual Information Scores\")\n",
    "\n",
    "def score_dataset(X, y, model=XGBRegressor()):\n",
    "    # Label encoding for categoricals\n",
    "    for colname in X.select_dtypes([\"category\", \"object\"]):\n",
    "        X[colname], _ = X[colname].factorize()\n",
    "    # log_y = np.log(y)\n",
    "    score = cross_val_score(model, X, y, cv=5, scoring=\"neg_mean_squared_error\", error_score='raise')\n",
    "    score = -1 * score.mean()\n",
    "    score = np.sqrt(score)\n",
    "    return score\n",
    "\n",
    "def normalize(df):\n",
    "    result = df.copy()\n",
    "    for feature_name in df.columns:\n",
    "        max_value = df[feature_name].max()\n",
    "        min_value = df[feature_name].min()\n",
    "        result[feature_name] = (df[feature_name] - min_value) / (max_value - min_value)\n",
    "    return result\n",
    "\n",
    "def feature_engineering(df):\n",
    "    df['BMI_Age'] = df['Physical-BMI'] * df['Basic_Demos-Age']\n",
    "    df['Internet_Hours_Age'] = df['PreInt_EduHx-computerinternet_hoursday'] * df['Basic_Demos-Age']\n",
    "    df['BMI_Internet_Hours'] = df['Physical-BMI'] * df['PreInt_EduHx-computerinternet_hoursday']\n",
    "    df['BFP_BMI'] = df['BIA-BIA_Fat'] / df['BIA-BIA_BMI']\n",
    "    df['FFMI_BFP'] = df['BIA-BIA_FFMI'] / df['BIA-BIA_Fat']\n",
    "    df['FMI_BFP'] = df['BIA-BIA_FMI'] / df['BIA-BIA_Fat']\n",
    "    df['LST_TBW'] = df['BIA-BIA_LST'] / df['BIA-BIA_TBW']\n",
    "    df['BFP_BMR'] = df['BIA-BIA_Fat'] * df['BIA-BIA_BMR']\n",
    "    df['BFP_DEE'] = df['BIA-BIA_Fat'] * df['BIA-BIA_DEE']\n",
    "    df['BMR_Weight'] = df['BIA-BIA_BMR'] / df['Physical-Weight']\n",
    "    df['DEE_Weight'] = df['BIA-BIA_DEE'] / df['Physical-Weight']\n",
    "    df['SMM_Height'] = df['BIA-BIA_SMM'] / df['Physical-Height']\n",
    "    df['Muscle_to_Fat'] = df['BIA-BIA_SMM'] / df['BIA-BIA_FMI']\n",
    "    df['Hydration_Status'] = df['BIA-BIA_TBW'] / df['Physical-Weight']\n",
    "    df['ICW_TBW'] = df['BIA-BIA_ICW'] / df['BIA-BIA_TBW']\n",
    "    df['BMI_PHR'] = df['Physical-BMI'] * df['Physical-HeartRate']\n",
    "    return df\n",
    "\n",
    "def drop_uninformative(df, mi_scores):\n",
    "    return df.loc[:, mi_scores > 0.0]\n",
    "\n",
    "def plot_variance(pca, width=8, dpi=100):\n",
    "    # Create figure\n",
    "    fig, axs = plt.subplots(1, 2)\n",
    "    n = pca.n_components_\n",
    "    grid = np.arange(1, n + 1)\n",
    "    # Explained variance\n",
    "    evr = pca.explained_variance_ratio_\n",
    "    axs[0].bar(grid, evr)\n",
    "    axs[0].set(\n",
    "        xlabel=\"Component\", title=\"% Explained Variance\", ylim=(0.0, 1.0)\n",
    "    )\n",
    "    # Cumulative Variance\n",
    "    cv = np.cumsum(evr)\n",
    "    axs[1].plot(np.r_[0, grid], np.r_[0, cv], \"o-\")\n",
    "    axs[1].set(\n",
    "        xlabel=\"Component\", title=\"% Cumulative Variance\", ylim=(0.0, 1.0)\n",
    "    )\n",
    "    # Set up figure\n",
    "    fig.set(figwidth=8, dpi=100)\n",
    "    return axs\n",
    "\n",
    "def get_sii(total):\n",
    "    sii = []\n",
    "    for i in total:\n",
    "        pciat = round(i)\n",
    "        if pciat <= 30:\n",
    "            sii.append(0)\n",
    "        if 30 < pciat <= 49:\n",
    "            sii.append(1)\n",
    "        if 49 < pciat <= 79:\n",
    "            sii.append(2)\n",
    "        if 79 < pciat:\n",
    "            sii.append(3)\n",
    "    return sii"
   ]
  },
  {
   "cell_type": "markdown",
   "id": "5ab42d13",
   "metadata": {
    "papermill": {
     "duration": 0.007654,
     "end_time": "2024-12-22T11:10:38.913415",
     "exception": false,
     "start_time": "2024-12-22T11:10:38.905761",
     "status": "completed"
    },
    "tags": []
   },
   "source": [
    "### This is seperating the data into the features X and the target y, and getting the categoricals and numerical columns"
   ]
  },
  {
   "cell_type": "code",
   "execution_count": 5,
   "id": "799f3e49",
   "metadata": {
    "_kg_hide-input": true,
    "execution": {
     "iopub.execute_input": "2024-12-22T11:10:38.931793Z",
     "iopub.status.busy": "2024-12-22T11:10:38.930665Z",
     "iopub.status.idle": "2024-12-22T11:10:38.961201Z",
     "shell.execute_reply": "2024-12-22T11:10:38.960003Z"
    },
    "papermill": {
     "duration": 0.04239,
     "end_time": "2024-12-22T11:10:38.963671",
     "exception": false,
     "start_time": "2024-12-22T11:10:38.921281",
     "status": "completed"
    },
    "tags": []
   },
   "outputs": [],
   "source": [
    "X = train.drop(columns=['id', 'PCIAT-Season'])\n",
    "X = X.dropna(subset=intermediates)\n",
    "y = X['PCIAT-PCIAT_Total']\n",
    "X = X.drop(columns=intermediates)\n",
    "X = X.drop(columns=['PCIAT-PCIAT_Total', 'sii'])\n",
    "# \"Cardinality\" means the number of unique values in a column\n",
    "# Select categorical columns with relatively low cardinality (convenient but arbitrary)\n",
    "categorical_cols = [cname for cname in X.columns if\n",
    "                    X[cname].dtype == \"object\"]\n",
    "\n",
    "# Select numerical columns\n",
    "numerical_cols = [cname for cname in X.columns if \n",
    "                X[cname].dtype in ['int64', 'float64']]\n",
    "\n",
    "cols = categorical_cols + numerical_cols"
   ]
  },
  {
   "cell_type": "markdown",
   "id": "75a666af",
   "metadata": {
    "papermill": {
     "duration": 0.008409,
     "end_time": "2024-12-22T11:10:38.980295",
     "exception": false,
     "start_time": "2024-12-22T11:10:38.971886",
     "status": "completed"
    },
    "tags": []
   },
   "source": [
    "### Here is the base features set, after dropping the features_not_in_test the shape of the data will be 60 for the columns, or 60 features. We will also drop the id and sii when fitting the model, giving us 58 features to use as the base feature set."
   ]
  },
  {
   "cell_type": "code",
   "execution_count": 6,
   "id": "8e549efc",
   "metadata": {
    "execution": {
     "iopub.execute_input": "2024-12-22T11:10:38.998670Z",
     "iopub.status.busy": "2024-12-22T11:10:38.998273Z",
     "iopub.status.idle": "2024-12-22T11:10:39.008551Z",
     "shell.execute_reply": "2024-12-22T11:10:39.007074Z"
    },
    "papermill": {
     "duration": 0.022217,
     "end_time": "2024-12-22T11:10:39.011145",
     "exception": false,
     "start_time": "2024-12-22T11:10:38.988928",
     "status": "completed"
    },
    "tags": []
   },
   "outputs": [
    {
     "name": "stdout",
     "output_type": "stream",
     "text": [
      "(3960, 60)\n",
      "(3960, 58)\n"
     ]
    }
   ],
   "source": [
    "print(train.drop(columns=features_not_in_test).shape)\n",
    "print(train.drop(columns=[*features_not_in_test, 'id', 'sii']).shape)"
   ]
  },
  {
   "cell_type": "markdown",
   "id": "6f809d32",
   "metadata": {
    "papermill": {
     "duration": 0.008224,
     "end_time": "2024-12-22T11:10:39.028212",
     "exception": false,
     "start_time": "2024-12-22T11:10:39.019988",
     "status": "completed"
    },
    "tags": []
   },
   "source": [
    "### This is getting the test_set ready to be used for making predictions"
   ]
  },
  {
   "cell_type": "code",
   "execution_count": 7,
   "id": "b1a81b4e",
   "metadata": {
    "execution": {
     "iopub.execute_input": "2024-12-22T11:10:39.046566Z",
     "iopub.status.busy": "2024-12-22T11:10:39.046196Z",
     "iopub.status.idle": "2024-12-22T11:10:39.052594Z",
     "shell.execute_reply": "2024-12-22T11:10:39.051431Z"
    },
    "papermill": {
     "duration": 0.018775,
     "end_time": "2024-12-22T11:10:39.055035",
     "exception": false,
     "start_time": "2024-12-22T11:10:39.036260",
     "status": "completed"
    },
    "tags": []
   },
   "outputs": [],
   "source": [
    "test_set = test.drop(columns=['id'])"
   ]
  },
  {
   "cell_type": "markdown",
   "id": "39bb2412",
   "metadata": {
    "papermill": {
     "duration": 0.007936,
     "end_time": "2024-12-22T11:10:39.072106",
     "exception": false,
     "start_time": "2024-12-22T11:10:39.064170",
     "status": "completed"
    },
    "tags": []
   },
   "source": [
    "### This is the pipeline for doing preprocessing on the data and fitting and transforming the data"
   ]
  },
  {
   "cell_type": "code",
   "execution_count": 8,
   "id": "246d2b52",
   "metadata": {
    "execution": {
     "iopub.execute_input": "2024-12-22T11:10:39.089518Z",
     "iopub.status.busy": "2024-12-22T11:10:39.089162Z",
     "iopub.status.idle": "2024-12-22T11:10:39.096263Z",
     "shell.execute_reply": "2024-12-22T11:10:39.095259Z"
    },
    "papermill": {
     "duration": 0.01852,
     "end_time": "2024-12-22T11:10:39.098511",
     "exception": false,
     "start_time": "2024-12-22T11:10:39.079991",
     "status": "completed"
    },
    "tags": []
   },
   "outputs": [],
   "source": [
    "numerical_transformer = Pipeline(steps=[\n",
    "    ('imputer', SimpleImputer(strategy='mean')),\n",
    "    # ('scaler', StandardScaler())\n",
    "])\n",
    "\n",
    "# Preprocessing for categorical data\n",
    "categorical_transformer = Pipeline(steps=[\n",
    "    ('imputer', SimpleImputer(strategy='most_frequent')),\n",
    "    ('onehot', OneHotEncoder())\n",
    "])\n",
    "\n",
    "# Bundle preprocessing for numerical and categorical data\n",
    "preprocessor = ColumnTransformer(\n",
    "    transformers=[\n",
    "        ('num', numerical_transformer, numerical_cols),\n",
    "        ('cat', categorical_transformer, categorical_cols)\n",
    "    ]\n",
    ")\n",
    "\n",
    "# Define model\n",
    "model = XGBRegressor(n_estimators=100, random_state=0)\n",
    "\n",
    "# Bundle preprocessing and modeling code in a pipeline\n",
    "pipeline = Pipeline(steps=[\n",
    "    ('preprocessor', preprocessor),\n",
    "    ('model', model)\n",
    "])"
   ]
  },
  {
   "cell_type": "markdown",
   "id": "b7648714",
   "metadata": {
    "papermill": {
     "duration": 0.007597,
     "end_time": "2024-12-22T11:10:39.114019",
     "exception": false,
     "start_time": "2024-12-22T11:10:39.106422",
     "status": "completed"
    },
    "tags": []
   },
   "source": [
    "### Here is a loop over the intermediate features, fitting the model to with all the X excluding the id, PCIAT-Season, sii and the intermediates, and also fit the model with the y which is the intermediate feature in the loop currently and then finally use the fitted pipeline to predict the intermediate feature and save it into the total dataframe which contains all the predictions on the test set\n",
    "### For example, here, the first i in the loop would be 'PCIAT-PCIAT_01', the model would be fitted to predict 'PCIAT-PCIAT_01' with the 58 features of the data, then we would use the model to predict 'PCIAT-PCIAT_01' for the test_set and save the predictions into the total dataframe. Then we continue this for the rest of the intermediate features"
   ]
  },
  {
   "cell_type": "code",
   "execution_count": 9,
   "id": "80068d9e",
   "metadata": {
    "execution": {
     "iopub.execute_input": "2024-12-22T11:10:39.131441Z",
     "iopub.status.busy": "2024-12-22T11:10:39.131032Z",
     "iopub.status.idle": "2024-12-22T11:10:47.378225Z",
     "shell.execute_reply": "2024-12-22T11:10:47.376936Z"
    },
    "papermill": {
     "duration": 8.258916,
     "end_time": "2024-12-22T11:10:47.380737",
     "exception": false,
     "start_time": "2024-12-22T11:10:39.121821",
     "status": "completed"
    },
    "tags": []
   },
   "outputs": [
    {
     "data": {
      "text/html": [
       "<div>\n",
       "<style scoped>\n",
       "    .dataframe tbody tr th:only-of-type {\n",
       "        vertical-align: middle;\n",
       "    }\n",
       "\n",
       "    .dataframe tbody tr th {\n",
       "        vertical-align: top;\n",
       "    }\n",
       "\n",
       "    .dataframe thead th {\n",
       "        text-align: right;\n",
       "    }\n",
       "</style>\n",
       "<table border=\"1\" class=\"dataframe\">\n",
       "  <thead>\n",
       "    <tr style=\"text-align: right;\">\n",
       "      <th></th>\n",
       "      <th>PCIAT-PCIAT_01</th>\n",
       "      <th>PCIAT-PCIAT_02</th>\n",
       "      <th>PCIAT-PCIAT_03</th>\n",
       "      <th>PCIAT-PCIAT_04</th>\n",
       "      <th>PCIAT-PCIAT_05</th>\n",
       "      <th>PCIAT-PCIAT_06</th>\n",
       "      <th>PCIAT-PCIAT_07</th>\n",
       "      <th>PCIAT-PCIAT_08</th>\n",
       "      <th>PCIAT-PCIAT_09</th>\n",
       "      <th>PCIAT-PCIAT_10</th>\n",
       "      <th>PCIAT-PCIAT_11</th>\n",
       "      <th>PCIAT-PCIAT_12</th>\n",
       "      <th>PCIAT-PCIAT_13</th>\n",
       "      <th>PCIAT-PCIAT_14</th>\n",
       "      <th>PCIAT-PCIAT_15</th>\n",
       "      <th>PCIAT-PCIAT_16</th>\n",
       "      <th>PCIAT-PCIAT_17</th>\n",
       "      <th>PCIAT-PCIAT_18</th>\n",
       "      <th>PCIAT-PCIAT_19</th>\n",
       "      <th>PCIAT-PCIAT_20</th>\n",
       "    </tr>\n",
       "  </thead>\n",
       "  <tbody>\n",
       "    <tr>\n",
       "      <th>0</th>\n",
       "      <td>4.245764</td>\n",
       "      <td>3.742690</td>\n",
       "      <td>3.686419</td>\n",
       "      <td>-0.015200</td>\n",
       "      <td>3.813830</td>\n",
       "      <td>0.036365</td>\n",
       "      <td>0.165225</td>\n",
       "      <td>3.738711</td>\n",
       "      <td>0.194318</td>\n",
       "      <td>0.234359</td>\n",
       "      <td>3.787778</td>\n",
       "      <td>0.054549</td>\n",
       "      <td>3.774930</td>\n",
       "      <td>3.462678</td>\n",
       "      <td>3.532596</td>\n",
       "      <td>3.694241</td>\n",
       "      <td>3.787600</td>\n",
       "      <td>3.504677</td>\n",
       "      <td>1.736118</td>\n",
       "      <td>3.597461</td>\n",
       "    </tr>\n",
       "    <tr>\n",
       "      <th>1</th>\n",
       "      <td>0.033577</td>\n",
       "      <td>0.163467</td>\n",
       "      <td>0.139519</td>\n",
       "      <td>0.025604</td>\n",
       "      <td>0.045861</td>\n",
       "      <td>0.033358</td>\n",
       "      <td>-0.102155</td>\n",
       "      <td>-0.011276</td>\n",
       "      <td>0.099402</td>\n",
       "      <td>0.153275</td>\n",
       "      <td>-0.051612</td>\n",
       "      <td>0.003638</td>\n",
       "      <td>0.138485</td>\n",
       "      <td>0.016176</td>\n",
       "      <td>0.251423</td>\n",
       "      <td>0.152441</td>\n",
       "      <td>0.009978</td>\n",
       "      <td>0.095146</td>\n",
       "      <td>0.013429</td>\n",
       "      <td>0.007339</td>\n",
       "    </tr>\n",
       "    <tr>\n",
       "      <th>2</th>\n",
       "      <td>5.006371</td>\n",
       "      <td>1.985799</td>\n",
       "      <td>2.110252</td>\n",
       "      <td>1.050378</td>\n",
       "      <td>2.101458</td>\n",
       "      <td>0.953854</td>\n",
       "      <td>0.884181</td>\n",
       "      <td>2.110112</td>\n",
       "      <td>0.915430</td>\n",
       "      <td>0.995694</td>\n",
       "      <td>1.055312</td>\n",
       "      <td>0.053550</td>\n",
       "      <td>1.038247</td>\n",
       "      <td>0.967226</td>\n",
       "      <td>1.452485</td>\n",
       "      <td>0.209468</td>\n",
       "      <td>2.119663</td>\n",
       "      <td>2.065896</td>\n",
       "      <td>0.991374</td>\n",
       "      <td>1.056379</td>\n",
       "    </tr>\n",
       "    <tr>\n",
       "      <th>3</th>\n",
       "      <td>3.589075</td>\n",
       "      <td>1.844492</td>\n",
       "      <td>3.009153</td>\n",
       "      <td>0.371589</td>\n",
       "      <td>4.065240</td>\n",
       "      <td>0.862527</td>\n",
       "      <td>0.136333</td>\n",
       "      <td>2.821492</td>\n",
       "      <td>1.619271</td>\n",
       "      <td>1.693961</td>\n",
       "      <td>2.850233</td>\n",
       "      <td>0.064979</td>\n",
       "      <td>2.436216</td>\n",
       "      <td>0.188625</td>\n",
       "      <td>0.651104</td>\n",
       "      <td>2.655430</td>\n",
       "      <td>3.624011</td>\n",
       "      <td>2.620429</td>\n",
       "      <td>3.497388</td>\n",
       "      <td>1.017665</td>\n",
       "    </tr>\n",
       "    <tr>\n",
       "      <th>4</th>\n",
       "      <td>1.629138</td>\n",
       "      <td>2.147586</td>\n",
       "      <td>2.944834</td>\n",
       "      <td>1.319912</td>\n",
       "      <td>1.771556</td>\n",
       "      <td>0.814691</td>\n",
       "      <td>0.760154</td>\n",
       "      <td>2.027340</td>\n",
       "      <td>1.244899</td>\n",
       "      <td>0.567111</td>\n",
       "      <td>4.056649</td>\n",
       "      <td>0.641177</td>\n",
       "      <td>0.540485</td>\n",
       "      <td>2.539373</td>\n",
       "      <td>2.708498</td>\n",
       "      <td>-0.129092</td>\n",
       "      <td>2.772465</td>\n",
       "      <td>0.683465</td>\n",
       "      <td>2.298763</td>\n",
       "      <td>0.364319</td>\n",
       "    </tr>\n",
       "    <tr>\n",
       "      <th>5</th>\n",
       "      <td>2.708910</td>\n",
       "      <td>3.072343</td>\n",
       "      <td>2.878683</td>\n",
       "      <td>-0.011127</td>\n",
       "      <td>1.978982</td>\n",
       "      <td>0.956772</td>\n",
       "      <td>-0.031428</td>\n",
       "      <td>1.949710</td>\n",
       "      <td>1.875327</td>\n",
       "      <td>1.040185</td>\n",
       "      <td>0.110264</td>\n",
       "      <td>0.969224</td>\n",
       "      <td>2.817169</td>\n",
       "      <td>2.865147</td>\n",
       "      <td>1.917022</td>\n",
       "      <td>0.987610</td>\n",
       "      <td>2.914338</td>\n",
       "      <td>1.064545</td>\n",
       "      <td>1.958260</td>\n",
       "      <td>0.934576</td>\n",
       "    </tr>\n",
       "    <tr>\n",
       "      <th>6</th>\n",
       "      <td>0.998212</td>\n",
       "      <td>3.897640</td>\n",
       "      <td>0.913962</td>\n",
       "      <td>0.009993</td>\n",
       "      <td>1.746632</td>\n",
       "      <td>0.920576</td>\n",
       "      <td>0.004044</td>\n",
       "      <td>1.003660</td>\n",
       "      <td>-0.037926</td>\n",
       "      <td>0.177468</td>\n",
       "      <td>0.261453</td>\n",
       "      <td>0.046954</td>\n",
       "      <td>0.173524</td>\n",
       "      <td>0.074700</td>\n",
       "      <td>-0.061157</td>\n",
       "      <td>3.958378</td>\n",
       "      <td>0.984719</td>\n",
       "      <td>3.614203</td>\n",
       "      <td>0.977507</td>\n",
       "      <td>0.005757</td>\n",
       "    </tr>\n",
       "    <tr>\n",
       "      <th>7</th>\n",
       "      <td>2.640818</td>\n",
       "      <td>1.632511</td>\n",
       "      <td>2.670443</td>\n",
       "      <td>0.666740</td>\n",
       "      <td>2.548574</td>\n",
       "      <td>1.040436</td>\n",
       "      <td>-0.166978</td>\n",
       "      <td>-0.000095</td>\n",
       "      <td>1.273198</td>\n",
       "      <td>0.283108</td>\n",
       "      <td>2.684792</td>\n",
       "      <td>0.100133</td>\n",
       "      <td>0.196995</td>\n",
       "      <td>1.053704</td>\n",
       "      <td>1.410083</td>\n",
       "      <td>1.171989</td>\n",
       "      <td>1.524239</td>\n",
       "      <td>1.034634</td>\n",
       "      <td>0.593925</td>\n",
       "      <td>0.821544</td>\n",
       "    </tr>\n",
       "    <tr>\n",
       "      <th>8</th>\n",
       "      <td>2.944787</td>\n",
       "      <td>3.257908</td>\n",
       "      <td>2.920293</td>\n",
       "      <td>1.347505</td>\n",
       "      <td>3.780228</td>\n",
       "      <td>2.254618</td>\n",
       "      <td>1.549703</td>\n",
       "      <td>2.162191</td>\n",
       "      <td>2.708497</td>\n",
       "      <td>1.976204</td>\n",
       "      <td>3.131001</td>\n",
       "      <td>0.382988</td>\n",
       "      <td>1.665565</td>\n",
       "      <td>2.433590</td>\n",
       "      <td>2.420449</td>\n",
       "      <td>2.189654</td>\n",
       "      <td>2.607102</td>\n",
       "      <td>1.634581</td>\n",
       "      <td>2.456585</td>\n",
       "      <td>1.686893</td>\n",
       "    </tr>\n",
       "    <tr>\n",
       "      <th>9</th>\n",
       "      <td>1.128428</td>\n",
       "      <td>2.793718</td>\n",
       "      <td>2.026349</td>\n",
       "      <td>0.756189</td>\n",
       "      <td>1.092664</td>\n",
       "      <td>0.892843</td>\n",
       "      <td>2.422997</td>\n",
       "      <td>1.080304</td>\n",
       "      <td>2.388988</td>\n",
       "      <td>1.217036</td>\n",
       "      <td>3.565168</td>\n",
       "      <td>0.103230</td>\n",
       "      <td>0.649100</td>\n",
       "      <td>1.638415</td>\n",
       "      <td>1.765369</td>\n",
       "      <td>0.580589</td>\n",
       "      <td>2.064221</td>\n",
       "      <td>0.451583</td>\n",
       "      <td>0.999119</td>\n",
       "      <td>0.442940</td>\n",
       "    </tr>\n",
       "    <tr>\n",
       "      <th>10</th>\n",
       "      <td>2.491596</td>\n",
       "      <td>2.642035</td>\n",
       "      <td>2.608787</td>\n",
       "      <td>0.762690</td>\n",
       "      <td>3.081096</td>\n",
       "      <td>1.809803</td>\n",
       "      <td>0.723746</td>\n",
       "      <td>1.422248</td>\n",
       "      <td>1.807342</td>\n",
       "      <td>1.949683</td>\n",
       "      <td>2.366258</td>\n",
       "      <td>0.223472</td>\n",
       "      <td>1.398482</td>\n",
       "      <td>1.380867</td>\n",
       "      <td>1.947575</td>\n",
       "      <td>1.493032</td>\n",
       "      <td>2.160915</td>\n",
       "      <td>1.410623</td>\n",
       "      <td>1.094769</td>\n",
       "      <td>0.804554</td>\n",
       "    </tr>\n",
       "    <tr>\n",
       "      <th>11</th>\n",
       "      <td>2.176434</td>\n",
       "      <td>2.034716</td>\n",
       "      <td>1.543345</td>\n",
       "      <td>0.436191</td>\n",
       "      <td>2.834820</td>\n",
       "      <td>0.359658</td>\n",
       "      <td>0.494626</td>\n",
       "      <td>1.004513</td>\n",
       "      <td>0.647357</td>\n",
       "      <td>0.424352</td>\n",
       "      <td>0.467925</td>\n",
       "      <td>0.038086</td>\n",
       "      <td>0.579907</td>\n",
       "      <td>0.104210</td>\n",
       "      <td>0.837041</td>\n",
       "      <td>1.043596</td>\n",
       "      <td>1.394478</td>\n",
       "      <td>0.366380</td>\n",
       "      <td>1.271243</td>\n",
       "      <td>0.704280</td>\n",
       "    </tr>\n",
       "    <tr>\n",
       "      <th>12</th>\n",
       "      <td>2.944640</td>\n",
       "      <td>2.050059</td>\n",
       "      <td>2.806769</td>\n",
       "      <td>1.960998</td>\n",
       "      <td>3.025920</td>\n",
       "      <td>2.978848</td>\n",
       "      <td>0.214173</td>\n",
       "      <td>1.149753</td>\n",
       "      <td>1.947768</td>\n",
       "      <td>1.090888</td>\n",
       "      <td>0.305710</td>\n",
       "      <td>0.046498</td>\n",
       "      <td>1.961122</td>\n",
       "      <td>0.919529</td>\n",
       "      <td>0.976177</td>\n",
       "      <td>1.050080</td>\n",
       "      <td>1.065217</td>\n",
       "      <td>2.045270</td>\n",
       "      <td>1.985166</td>\n",
       "      <td>0.957542</td>\n",
       "    </tr>\n",
       "    <tr>\n",
       "      <th>13</th>\n",
       "      <td>1.215384</td>\n",
       "      <td>2.843558</td>\n",
       "      <td>2.687624</td>\n",
       "      <td>1.069736</td>\n",
       "      <td>2.126385</td>\n",
       "      <td>1.828198</td>\n",
       "      <td>1.252341</td>\n",
       "      <td>1.874839</td>\n",
       "      <td>1.092711</td>\n",
       "      <td>2.013787</td>\n",
       "      <td>1.586082</td>\n",
       "      <td>-0.020646</td>\n",
       "      <td>1.615290</td>\n",
       "      <td>1.086844</td>\n",
       "      <td>2.755203</td>\n",
       "      <td>1.428356</td>\n",
       "      <td>3.981697</td>\n",
       "      <td>1.841811</td>\n",
       "      <td>2.426451</td>\n",
       "      <td>1.307738</td>\n",
       "    </tr>\n",
       "    <tr>\n",
       "      <th>14</th>\n",
       "      <td>2.872208</td>\n",
       "      <td>3.029933</td>\n",
       "      <td>3.183944</td>\n",
       "      <td>1.400010</td>\n",
       "      <td>3.559070</td>\n",
       "      <td>2.151927</td>\n",
       "      <td>1.082591</td>\n",
       "      <td>2.193459</td>\n",
       "      <td>2.001358</td>\n",
       "      <td>1.747906</td>\n",
       "      <td>2.785445</td>\n",
       "      <td>0.271055</td>\n",
       "      <td>1.921782</td>\n",
       "      <td>1.898367</td>\n",
       "      <td>2.538973</td>\n",
       "      <td>2.162716</td>\n",
       "      <td>2.842897</td>\n",
       "      <td>1.772012</td>\n",
       "      <td>1.873696</td>\n",
       "      <td>1.498534</td>\n",
       "    </tr>\n",
       "    <tr>\n",
       "      <th>15</th>\n",
       "      <td>4.051702</td>\n",
       "      <td>3.418785</td>\n",
       "      <td>3.760510</td>\n",
       "      <td>2.653440</td>\n",
       "      <td>4.670823</td>\n",
       "      <td>0.927520</td>\n",
       "      <td>0.804399</td>\n",
       "      <td>3.479422</td>\n",
       "      <td>0.937822</td>\n",
       "      <td>1.057998</td>\n",
       "      <td>3.686925</td>\n",
       "      <td>0.815328</td>\n",
       "      <td>3.717401</td>\n",
       "      <td>3.863044</td>\n",
       "      <td>3.785823</td>\n",
       "      <td>1.916717</td>\n",
       "      <td>3.515510</td>\n",
       "      <td>2.791207</td>\n",
       "      <td>2.713133</td>\n",
       "      <td>0.969582</td>\n",
       "    </tr>\n",
       "    <tr>\n",
       "      <th>16</th>\n",
       "      <td>0.075519</td>\n",
       "      <td>0.193411</td>\n",
       "      <td>0.281505</td>\n",
       "      <td>0.219111</td>\n",
       "      <td>0.434343</td>\n",
       "      <td>0.020179</td>\n",
       "      <td>0.087187</td>\n",
       "      <td>0.031237</td>\n",
       "      <td>0.270877</td>\n",
       "      <td>0.069037</td>\n",
       "      <td>0.138228</td>\n",
       "      <td>-0.003869</td>\n",
       "      <td>0.178978</td>\n",
       "      <td>0.205094</td>\n",
       "      <td>0.320219</td>\n",
       "      <td>0.097737</td>\n",
       "      <td>0.419026</td>\n",
       "      <td>0.605656</td>\n",
       "      <td>0.183917</td>\n",
       "      <td>0.139991</td>\n",
       "    </tr>\n",
       "    <tr>\n",
       "      <th>17</th>\n",
       "      <td>2.172497</td>\n",
       "      <td>2.169518</td>\n",
       "      <td>2.434019</td>\n",
       "      <td>1.030980</td>\n",
       "      <td>1.152190</td>\n",
       "      <td>0.603292</td>\n",
       "      <td>-0.076729</td>\n",
       "      <td>1.229290</td>\n",
       "      <td>0.553903</td>\n",
       "      <td>0.588582</td>\n",
       "      <td>2.090884</td>\n",
       "      <td>0.128787</td>\n",
       "      <td>0.864389</td>\n",
       "      <td>0.591866</td>\n",
       "      <td>1.578256</td>\n",
       "      <td>0.730739</td>\n",
       "      <td>1.455390</td>\n",
       "      <td>1.961569</td>\n",
       "      <td>0.871944</td>\n",
       "      <td>1.279442</td>\n",
       "    </tr>\n",
       "    <tr>\n",
       "      <th>18</th>\n",
       "      <td>2.945554</td>\n",
       "      <td>3.049150</td>\n",
       "      <td>2.116192</td>\n",
       "      <td>0.074094</td>\n",
       "      <td>3.974859</td>\n",
       "      <td>-0.029984</td>\n",
       "      <td>0.001078</td>\n",
       "      <td>0.071071</td>\n",
       "      <td>-0.088917</td>\n",
       "      <td>1.798532</td>\n",
       "      <td>2.157218</td>\n",
       "      <td>0.092933</td>\n",
       "      <td>2.809527</td>\n",
       "      <td>-0.058238</td>\n",
       "      <td>0.070100</td>\n",
       "      <td>2.020314</td>\n",
       "      <td>2.980327</td>\n",
       "      <td>3.006155</td>\n",
       "      <td>1.032264</td>\n",
       "      <td>0.027470</td>\n",
       "    </tr>\n",
       "    <tr>\n",
       "      <th>19</th>\n",
       "      <td>2.971443</td>\n",
       "      <td>3.485469</td>\n",
       "      <td>3.225463</td>\n",
       "      <td>0.957996</td>\n",
       "      <td>3.310843</td>\n",
       "      <td>1.284663</td>\n",
       "      <td>0.336577</td>\n",
       "      <td>1.731294</td>\n",
       "      <td>1.507250</td>\n",
       "      <td>1.812345</td>\n",
       "      <td>2.149223</td>\n",
       "      <td>0.263354</td>\n",
       "      <td>2.138805</td>\n",
       "      <td>1.289934</td>\n",
       "      <td>2.618284</td>\n",
       "      <td>2.326601</td>\n",
       "      <td>2.208920</td>\n",
       "      <td>2.216438</td>\n",
       "      <td>1.880951</td>\n",
       "      <td>1.582700</td>\n",
       "    </tr>\n",
       "  </tbody>\n",
       "</table>\n",
       "</div>"
      ],
      "text/plain": [
       "    PCIAT-PCIAT_01  PCIAT-PCIAT_02  PCIAT-PCIAT_03  PCIAT-PCIAT_04  \\\n",
       "0         4.245764        3.742690        3.686419       -0.015200   \n",
       "1         0.033577        0.163467        0.139519        0.025604   \n",
       "2         5.006371        1.985799        2.110252        1.050378   \n",
       "3         3.589075        1.844492        3.009153        0.371589   \n",
       "4         1.629138        2.147586        2.944834        1.319912   \n",
       "5         2.708910        3.072343        2.878683       -0.011127   \n",
       "6         0.998212        3.897640        0.913962        0.009993   \n",
       "7         2.640818        1.632511        2.670443        0.666740   \n",
       "8         2.944787        3.257908        2.920293        1.347505   \n",
       "9         1.128428        2.793718        2.026349        0.756189   \n",
       "10        2.491596        2.642035        2.608787        0.762690   \n",
       "11        2.176434        2.034716        1.543345        0.436191   \n",
       "12        2.944640        2.050059        2.806769        1.960998   \n",
       "13        1.215384        2.843558        2.687624        1.069736   \n",
       "14        2.872208        3.029933        3.183944        1.400010   \n",
       "15        4.051702        3.418785        3.760510        2.653440   \n",
       "16        0.075519        0.193411        0.281505        0.219111   \n",
       "17        2.172497        2.169518        2.434019        1.030980   \n",
       "18        2.945554        3.049150        2.116192        0.074094   \n",
       "19        2.971443        3.485469        3.225463        0.957996   \n",
       "\n",
       "    PCIAT-PCIAT_05  PCIAT-PCIAT_06  PCIAT-PCIAT_07  PCIAT-PCIAT_08  \\\n",
       "0         3.813830        0.036365        0.165225        3.738711   \n",
       "1         0.045861        0.033358       -0.102155       -0.011276   \n",
       "2         2.101458        0.953854        0.884181        2.110112   \n",
       "3         4.065240        0.862527        0.136333        2.821492   \n",
       "4         1.771556        0.814691        0.760154        2.027340   \n",
       "5         1.978982        0.956772       -0.031428        1.949710   \n",
       "6         1.746632        0.920576        0.004044        1.003660   \n",
       "7         2.548574        1.040436       -0.166978       -0.000095   \n",
       "8         3.780228        2.254618        1.549703        2.162191   \n",
       "9         1.092664        0.892843        2.422997        1.080304   \n",
       "10        3.081096        1.809803        0.723746        1.422248   \n",
       "11        2.834820        0.359658        0.494626        1.004513   \n",
       "12        3.025920        2.978848        0.214173        1.149753   \n",
       "13        2.126385        1.828198        1.252341        1.874839   \n",
       "14        3.559070        2.151927        1.082591        2.193459   \n",
       "15        4.670823        0.927520        0.804399        3.479422   \n",
       "16        0.434343        0.020179        0.087187        0.031237   \n",
       "17        1.152190        0.603292       -0.076729        1.229290   \n",
       "18        3.974859       -0.029984        0.001078        0.071071   \n",
       "19        3.310843        1.284663        0.336577        1.731294   \n",
       "\n",
       "    PCIAT-PCIAT_09  PCIAT-PCIAT_10  PCIAT-PCIAT_11  PCIAT-PCIAT_12  \\\n",
       "0         0.194318        0.234359        3.787778        0.054549   \n",
       "1         0.099402        0.153275       -0.051612        0.003638   \n",
       "2         0.915430        0.995694        1.055312        0.053550   \n",
       "3         1.619271        1.693961        2.850233        0.064979   \n",
       "4         1.244899        0.567111        4.056649        0.641177   \n",
       "5         1.875327        1.040185        0.110264        0.969224   \n",
       "6        -0.037926        0.177468        0.261453        0.046954   \n",
       "7         1.273198        0.283108        2.684792        0.100133   \n",
       "8         2.708497        1.976204        3.131001        0.382988   \n",
       "9         2.388988        1.217036        3.565168        0.103230   \n",
       "10        1.807342        1.949683        2.366258        0.223472   \n",
       "11        0.647357        0.424352        0.467925        0.038086   \n",
       "12        1.947768        1.090888        0.305710        0.046498   \n",
       "13        1.092711        2.013787        1.586082       -0.020646   \n",
       "14        2.001358        1.747906        2.785445        0.271055   \n",
       "15        0.937822        1.057998        3.686925        0.815328   \n",
       "16        0.270877        0.069037        0.138228       -0.003869   \n",
       "17        0.553903        0.588582        2.090884        0.128787   \n",
       "18       -0.088917        1.798532        2.157218        0.092933   \n",
       "19        1.507250        1.812345        2.149223        0.263354   \n",
       "\n",
       "    PCIAT-PCIAT_13  PCIAT-PCIAT_14  PCIAT-PCIAT_15  PCIAT-PCIAT_16  \\\n",
       "0         3.774930        3.462678        3.532596        3.694241   \n",
       "1         0.138485        0.016176        0.251423        0.152441   \n",
       "2         1.038247        0.967226        1.452485        0.209468   \n",
       "3         2.436216        0.188625        0.651104        2.655430   \n",
       "4         0.540485        2.539373        2.708498       -0.129092   \n",
       "5         2.817169        2.865147        1.917022        0.987610   \n",
       "6         0.173524        0.074700       -0.061157        3.958378   \n",
       "7         0.196995        1.053704        1.410083        1.171989   \n",
       "8         1.665565        2.433590        2.420449        2.189654   \n",
       "9         0.649100        1.638415        1.765369        0.580589   \n",
       "10        1.398482        1.380867        1.947575        1.493032   \n",
       "11        0.579907        0.104210        0.837041        1.043596   \n",
       "12        1.961122        0.919529        0.976177        1.050080   \n",
       "13        1.615290        1.086844        2.755203        1.428356   \n",
       "14        1.921782        1.898367        2.538973        2.162716   \n",
       "15        3.717401        3.863044        3.785823        1.916717   \n",
       "16        0.178978        0.205094        0.320219        0.097737   \n",
       "17        0.864389        0.591866        1.578256        0.730739   \n",
       "18        2.809527       -0.058238        0.070100        2.020314   \n",
       "19        2.138805        1.289934        2.618284        2.326601   \n",
       "\n",
       "    PCIAT-PCIAT_17  PCIAT-PCIAT_18  PCIAT-PCIAT_19  PCIAT-PCIAT_20  \n",
       "0         3.787600        3.504677        1.736118        3.597461  \n",
       "1         0.009978        0.095146        0.013429        0.007339  \n",
       "2         2.119663        2.065896        0.991374        1.056379  \n",
       "3         3.624011        2.620429        3.497388        1.017665  \n",
       "4         2.772465        0.683465        2.298763        0.364319  \n",
       "5         2.914338        1.064545        1.958260        0.934576  \n",
       "6         0.984719        3.614203        0.977507        0.005757  \n",
       "7         1.524239        1.034634        0.593925        0.821544  \n",
       "8         2.607102        1.634581        2.456585        1.686893  \n",
       "9         2.064221        0.451583        0.999119        0.442940  \n",
       "10        2.160915        1.410623        1.094769        0.804554  \n",
       "11        1.394478        0.366380        1.271243        0.704280  \n",
       "12        1.065217        2.045270        1.985166        0.957542  \n",
       "13        3.981697        1.841811        2.426451        1.307738  \n",
       "14        2.842897        1.772012        1.873696        1.498534  \n",
       "15        3.515510        2.791207        2.713133        0.969582  \n",
       "16        0.419026        0.605656        0.183917        0.139991  \n",
       "17        1.455390        1.961569        0.871944        1.279442  \n",
       "18        2.980327        3.006155        1.032264        0.027470  \n",
       "19        2.208920        2.216438        1.880951        1.582700  "
      ]
     },
     "execution_count": 9,
     "metadata": {},
     "output_type": "execute_result"
    }
   ],
   "source": [
    "total = pd.DataFrame()\n",
    "\n",
    "for i in intermediates:\n",
    "    X = train.drop(columns=['id', 'PCIAT-Season'])\n",
    "    # X = feature_engineering(X)\n",
    "    X = X.dropna(subset=intermediates)\n",
    "    y = X[i]\n",
    "    X = X.drop(columns=intermediates)\n",
    "    X = X.drop(columns=['PCIAT-PCIAT_Total', 'sii'])\n",
    "\n",
    "    pipeline.fit(X, y)\n",
    "    preds = pipeline.predict(test_set)\n",
    "    total[i] = preds\n",
    "\n",
    "total"
   ]
  },
  {
   "cell_type": "code",
   "execution_count": 10,
   "id": "6c2003d3",
   "metadata": {
    "execution": {
     "iopub.execute_input": "2024-12-22T11:10:47.400974Z",
     "iopub.status.busy": "2024-12-22T11:10:47.400412Z",
     "iopub.status.idle": "2024-12-22T11:10:47.410555Z",
     "shell.execute_reply": "2024-12-22T11:10:47.409422Z"
    },
    "papermill": {
     "duration": 0.022948,
     "end_time": "2024-12-22T11:10:47.412932",
     "exception": false,
     "start_time": "2024-12-22T11:10:47.389984",
     "status": "completed"
    },
    "tags": []
   },
   "outputs": [
    {
     "data": {
      "text/plain": [
       "0     50.775116\n",
       "1      1.217076\n",
       "2     29.123129\n",
       "3     39.619217\n",
       "4     31.703323\n",
       "5     32.956509\n",
       "6     19.670296\n",
       "7     23.180792\n",
       "8     45.510345\n",
       "9     28.059254\n",
       "10    33.579575\n",
       "11    18.763161\n",
       "12    31.482126\n",
       "13    36.013393\n",
       "14    42.787880\n",
       "15    53.537098\n",
       "16     3.967383\n",
       "17    23.410807\n",
       "18    28.049698\n",
       "19    39.298557\n",
       "dtype: float32"
      ]
     },
     "execution_count": 10,
     "metadata": {},
     "output_type": "execute_result"
    }
   ],
   "source": [
    "total.sum(axis=1)"
   ]
  },
  {
   "cell_type": "markdown",
   "id": "810380c6",
   "metadata": {
    "papermill": {
     "duration": 0.008645,
     "end_time": "2024-12-22T11:10:47.430309",
     "exception": false,
     "start_time": "2024-12-22T11:10:47.421664",
     "status": "completed"
    },
    "tags": []
   },
   "source": []
  },
  {
   "cell_type": "markdown",
   "id": "46dae227",
   "metadata": {
    "papermill": {
     "duration": 0.009377,
     "end_time": "2024-12-22T11:10:47.448553",
     "exception": false,
     "start_time": "2024-12-22T11:10:47.439176",
     "status": "completed"
    },
    "tags": []
   },
   "source": [
    "### The total dataframe is used to calculating the total for the row across all the PCIAT, or in other words, the PCIAT-PCIAT_Total. We then have a get_sii function that takes the total and converts it into an array with the corresponding sii like the data-dictionary.csv says"
   ]
  },
  {
   "cell_type": "code",
   "execution_count": 11,
   "id": "c3486ed2",
   "metadata": {
    "execution": {
     "iopub.execute_input": "2024-12-22T11:10:47.468485Z",
     "iopub.status.busy": "2024-12-22T11:10:47.468074Z",
     "iopub.status.idle": "2024-12-22T11:10:47.474511Z",
     "shell.execute_reply": "2024-12-22T11:10:47.473398Z"
    },
    "papermill": {
     "duration": 0.018913,
     "end_time": "2024-12-22T11:10:47.476880",
     "exception": false,
     "start_time": "2024-12-22T11:10:47.457967",
     "status": "completed"
    },
    "tags": []
   },
   "outputs": [],
   "source": [
    "def get_sii(total):\n",
    "    sii = []\n",
    "    for i in total:\n",
    "        pciat = round(i)\n",
    "        if pciat <= 30:\n",
    "            sii.append(0)\n",
    "        if 30 < pciat <= 49:\n",
    "            sii.append(1)\n",
    "        if 49 < pciat <= 79:\n",
    "            sii.append(2)\n",
    "        if 79 < pciat:\n",
    "            sii.append(3)\n",
    "    return sii"
   ]
  },
  {
   "cell_type": "markdown",
   "id": "125e43fe",
   "metadata": {
    "papermill": {
     "duration": 0.008511,
     "end_time": "2024-12-22T11:10:47.494235",
     "exception": false,
     "start_time": "2024-12-22T11:10:47.485724",
     "status": "completed"
    },
    "tags": []
   },
   "source": [
    "### This is converting the total dataframe into the prediction of the test set"
   ]
  },
  {
   "cell_type": "code",
   "execution_count": 12,
   "id": "7d197b31",
   "metadata": {
    "execution": {
     "iopub.execute_input": "2024-12-22T11:10:47.513635Z",
     "iopub.status.busy": "2024-12-22T11:10:47.513230Z",
     "iopub.status.idle": "2024-12-22T11:10:47.522848Z",
     "shell.execute_reply": "2024-12-22T11:10:47.521651Z"
    },
    "papermill": {
     "duration": 0.022077,
     "end_time": "2024-12-22T11:10:47.525190",
     "exception": false,
     "start_time": "2024-12-22T11:10:47.503113",
     "status": "completed"
    },
    "tags": []
   },
   "outputs": [
    {
     "data": {
      "text/plain": [
       "[2, 0, 0, 1, 1, 1, 0, 0, 1, 0, 1, 0, 1, 1, 1, 2, 0, 0, 0, 1]"
      ]
     },
     "execution_count": 12,
     "metadata": {},
     "output_type": "execute_result"
    }
   ],
   "source": [
    "test_set_predictions = get_sii(total.sum(axis=1))\n",
    "test_set_predictions"
   ]
  },
  {
   "cell_type": "markdown",
   "id": "e6910ce1",
   "metadata": {
    "papermill": {
     "duration": 0.008656,
     "end_time": "2024-12-22T11:10:47.542813",
     "exception": false,
     "start_time": "2024-12-22T11:10:47.534157",
     "status": "completed"
    },
    "tags": []
   },
   "source": [
    "### This final step is making the output in the correct formatting and saving it to submission.csv"
   ]
  },
  {
   "cell_type": "code",
   "execution_count": 13,
   "id": "013b5195",
   "metadata": {
    "execution": {
     "iopub.execute_input": "2024-12-22T11:10:47.563122Z",
     "iopub.status.busy": "2024-12-22T11:10:47.562668Z",
     "iopub.status.idle": "2024-12-22T11:10:47.571652Z",
     "shell.execute_reply": "2024-12-22T11:10:47.570504Z"
    },
    "papermill": {
     "duration": 0.022613,
     "end_time": "2024-12-22T11:10:47.574179",
     "exception": false,
     "start_time": "2024-12-22T11:10:47.551566",
     "status": "completed"
    },
    "tags": []
   },
   "outputs": [],
   "source": [
    "# Save test predictions to file\n",
    "output = pd.DataFrame({'id': test.id.values,\n",
    "                       'sii': test_set_predictions})\n",
    "output.to_csv('submission.csv', index=False)"
   ]
  },
  {
   "cell_type": "code",
   "execution_count": 14,
   "id": "667e0d10",
   "metadata": {
    "execution": {
     "iopub.execute_input": "2024-12-22T11:10:47.594670Z",
     "iopub.status.busy": "2024-12-22T11:10:47.594259Z",
     "iopub.status.idle": "2024-12-22T11:10:47.600244Z",
     "shell.execute_reply": "2024-12-22T11:10:47.598872Z"
    },
    "jupyter": {
     "source_hidden": true
    },
    "papermill": {
     "duration": 0.019758,
     "end_time": "2024-12-22T11:10:47.602948",
     "exception": false,
     "start_time": "2024-12-22T11:10:47.583190",
     "status": "completed"
    },
    "tags": []
   },
   "outputs": [],
   "source": [
    "# num_train_X = train_X[numerical_cols]\n",
    "# num_train_X_scaled = (num_train_X - num_train_X.mean(axis=0)) / num_train_X.std(axis=0)\n",
    "# num_train_X_scaled\n",
    "# pca = PCA()\n",
    "# X_pca = pca.fit_transform(num_train_X_scaled)\n",
    "\n",
    "# # Convert to dataframe\n",
    "# component_names = [f\"PC{i+1}\" for i in range(X_pca.shape[1])]\n",
    "# X_pca = pd.DataFrame(X_pca, columns=component_names)\n",
    "\n",
    "# X_pca.head()"
   ]
  },
  {
   "cell_type": "code",
   "execution_count": 15,
   "id": "2b0ec728",
   "metadata": {
    "execution": {
     "iopub.execute_input": "2024-12-22T11:10:47.624010Z",
     "iopub.status.busy": "2024-12-22T11:10:47.623537Z",
     "iopub.status.idle": "2024-12-22T11:10:47.628506Z",
     "shell.execute_reply": "2024-12-22T11:10:47.627376Z"
    },
    "jupyter": {
     "source_hidden": true
    },
    "papermill": {
     "duration": 0.018636,
     "end_time": "2024-12-22T11:10:47.630778",
     "exception": false,
     "start_time": "2024-12-22T11:10:47.612142",
     "status": "completed"
    },
    "tags": []
   },
   "outputs": [],
   "source": [
    "# X.hist(bins=10, figsize=(20, 16))\n",
    "# plt.tight_layout()\n",
    "# plt.show()\n",
    "# X.isnull().sum().plot(kind='bar',figsize=(20,8))\n",
    "# plt.xlabel('variables')\n",
    "# plt.ylabel('null count')\n",
    "# plt.title('null per variables')\n",
    "# plt.show()"
   ]
  },
  {
   "cell_type": "code",
   "execution_count": 16,
   "id": "493587d1",
   "metadata": {
    "execution": {
     "iopub.execute_input": "2024-12-22T11:10:47.650445Z",
     "iopub.status.busy": "2024-12-22T11:10:47.650070Z",
     "iopub.status.idle": "2024-12-22T11:10:47.654943Z",
     "shell.execute_reply": "2024-12-22T11:10:47.653798Z"
    },
    "jupyter": {
     "source_hidden": true
    },
    "papermill": {
     "duration": 0.017645,
     "end_time": "2024-12-22T11:10:47.657370",
     "exception": false,
     "start_time": "2024-12-22T11:10:47.639725",
     "status": "completed"
    },
    "tags": []
   },
   "outputs": [],
   "source": [
    "# X[numerical_cols].corr()\n",
    "# # pd.concat([X[numerical_cols], y], axis=1).corr()['sii'].sort_values(ascending=False)[1:].plot(kind='bar',figsize=(20,8))\n",
    "# # plt.xlabel('features')\n",
    "# # plt.ylabel('sii')\n",
    "# # plt.title('features to sii correlation')\n",
    "# # plt.show()\n",
    "# high_corr_features = pd.concat([X[numerical_cols], y], axis=1).corr()['sii'].sort_values(ascending=False).abs()[1:11].index"
   ]
  },
  {
   "cell_type": "code",
   "execution_count": 17,
   "id": "f4b2db35",
   "metadata": {
    "execution": {
     "iopub.execute_input": "2024-12-22T11:10:47.676904Z",
     "iopub.status.busy": "2024-12-22T11:10:47.676471Z",
     "iopub.status.idle": "2024-12-22T11:10:47.681878Z",
     "shell.execute_reply": "2024-12-22T11:10:47.680786Z"
    },
    "jupyter": {
     "source_hidden": true
    },
    "papermill": {
     "duration": 0.017859,
     "end_time": "2024-12-22T11:10:47.684207",
     "exception": false,
     "start_time": "2024-12-22T11:10:47.666348",
     "status": "completed"
    },
    "tags": []
   },
   "outputs": [],
   "source": [
    "# sns.heatmap(X[numerical_cols].corr())"
   ]
  },
  {
   "cell_type": "code",
   "execution_count": 18,
   "id": "85331857",
   "metadata": {
    "execution": {
     "iopub.execute_input": "2024-12-22T11:10:47.703900Z",
     "iopub.status.busy": "2024-12-22T11:10:47.703431Z",
     "iopub.status.idle": "2024-12-22T11:10:47.717296Z",
     "shell.execute_reply": "2024-12-22T11:10:47.715865Z"
    },
    "jupyter": {
     "source_hidden": true
    },
    "papermill": {
     "duration": 0.026624,
     "end_time": "2024-12-22T11:10:47.719701",
     "exception": false,
     "start_time": "2024-12-22T11:10:47.693077",
     "status": "completed"
    },
    "tags": []
   },
   "outputs": [],
   "source": [
    "def apply_pca(X, standardize=True):\n",
    "    # Standardize\n",
    "    if standardize:\n",
    "        X = (X - X.mean(axis=0)) / X.std(axis=0)\n",
    "    # Create principal components\n",
    "    pca = PCA()\n",
    "    X_pca = pca.fit_transform(X)\n",
    "    # Convert to dataframe\n",
    "    component_names = [f\"PC{i+1}\" for i in range(X_pca.shape[1])]\n",
    "    X_pca = pd.DataFrame(X_pca, columns=component_names)\n",
    "    # Create loadings\n",
    "    loadings = pd.DataFrame(\n",
    "        pca.components_.T,  # transpose the matrix of loadings\n",
    "        columns=component_names,  # so the columns are the principal components\n",
    "        index=X.columns,  # and the rows are the original features\n",
    "    )\n",
    "    return pca, X_pca, loadings\n",
    "\n",
    "\n",
    "def plot_variance(pca, width=8, dpi=100):\n",
    "    # Create figure\n",
    "    fig, axs = plt.subplots(1, 2)\n",
    "    n = pca.n_components_\n",
    "    grid = np.arange(1, n + 1)\n",
    "    # Explained variance\n",
    "    evr = pca.explained_variance_ratio_\n",
    "    axs[0].bar(grid, evr)\n",
    "    axs[0].set(\n",
    "        xlabel=\"Component\", title=\"% Explained Variance\", ylim=(0.0, 1.0)\n",
    "    )\n",
    "    # Cumulative Variance\n",
    "    cv = np.cumsum(evr)\n",
    "    axs[1].plot(np.r_[0, grid], np.r_[0, cv], \"o-\")\n",
    "    axs[1].set(\n",
    "        xlabel=\"Component\", title=\"% Cumulative Variance\", ylim=(0.0, 1.0)\n",
    "    )\n",
    "    # Set up figure\n",
    "    fig.set(figwidth=8, dpi=100)\n",
    "    return axs\n",
    "\n",
    "\n",
    "def make_mi_scores(X, y):\n",
    "    X = X.copy()\n",
    "    for colname in X.select_dtypes([\"object\", \"category\"]):\n",
    "        X[colname], _ = X[colname].factorize()\n",
    "    # All discrete features should now have integer dtypes\n",
    "    discrete_features = [pd.api.types.is_integer_dtype(t) for t in X.dtypes]\n",
    "    mi_scores = mutual_info_regression(X, y, discrete_features=discrete_features, random_state=0)\n",
    "    mi_scores = pd.Series(mi_scores, name=\"MI Scores\", index=X.columns)\n",
    "    mi_scores = mi_scores.sort_values(ascending=False)\n",
    "    return mi_scores\n",
    "\n",
    "\n",
    "def score_dataset(X, y, model=XGBRegressor()):\n",
    "    # Label encoding for categoricals\n",
    "    for colname in X.select_dtypes([\"category\", \"object\"]):\n",
    "        X[colname], _ = X[colname].factorize()\n",
    "    # Metric for Housing competition is RMSLE (Root Mean Squared Log Error)\n",
    "    score = cross_val_score(\n",
    "        model, X, y, cv=5, scoring=\"neg_mean_squared_log_error\",\n",
    "    )\n",
    "    score = -1 * score.mean()\n",
    "    score = np.sqrt(score)\n",
    "    return score"
   ]
  },
  {
   "cell_type": "code",
   "execution_count": 19,
   "id": "b93ddaea",
   "metadata": {
    "execution": {
     "iopub.execute_input": "2024-12-22T11:10:47.740970Z",
     "iopub.status.busy": "2024-12-22T11:10:47.740199Z",
     "iopub.status.idle": "2024-12-22T11:10:47.746260Z",
     "shell.execute_reply": "2024-12-22T11:10:47.745157Z"
    },
    "jupyter": {
     "source_hidden": true
    },
    "papermill": {
     "duration": 0.019814,
     "end_time": "2024-12-22T11:10:47.748362",
     "exception": false,
     "start_time": "2024-12-22T11:10:47.728548",
     "status": "completed"
    },
    "tags": []
   },
   "outputs": [],
   "source": [
    "# my_imputer = SimpleImputer(strategy='mean', fill_value=0)\n",
    "# num_X = train_X[numerical_cols]\n",
    "# im_X = pd.DataFrame(my_imputer.fit_transform(num_X))\n",
    "# im_X.columns = num_X.columns\n",
    "# im_X.index = num_X.index\n",
    "# # num_test = test_set[numerical_cols]\n",
    "# # im_test = pd.DataFrame(my_imputer.fit_transform(num_test))\n",
    "# # im_test.columns = num_test.columns\n",
    "# # im_X.round()\n",
    "# # mi_scores = make_mi_scores(im_X, y, discrete_features='auto')\n",
    "# # mi_scores[::]  # show a few features with their MI scores\n",
    "# # plt.figure(dpi=100, figsize=(8, 15))\n",
    "# # plot_mi_scores(mi_scores)\n",
    "# # sns.relplot(y='Physical-Height', x='sii', data=train)\n",
    "\n",
    "# im_X_scaled = (im_X - im_X.mean(axis=0)) / im_X.std(axis=0)\n",
    "# pca = PCA()\n",
    "# X_pca = pca.fit_transform(im_X_scaled)\n",
    "\n",
    "# # Convert to dataframe\n",
    "# component_names = [f\"PC{i+1}\" for i in range(X_pca.shape[1])]\n",
    "# X_pca = pd.DataFrame(X_pca, columns=component_names)\n",
    "\n",
    "# X_pca.head()\n",
    "\n",
    "# loadings = pd.DataFrame(\n",
    "#     pca.components_.T,  # transpose the matrix of loadings\n",
    "#     columns=component_names,  # so the columns are the principal components\n",
    "#     index=im_X_scaled.columns,  # and the rows are the original features\n",
    "# )\n",
    "# sns.heatmap(loadings)\n",
    "# plot_variance(pca)\n",
    "# # loadings\n",
    "# # abs_loadings = loadings.abs()\n",
    "\n",
    "# # # Find the feature with the highest loading for each principal component\n",
    "# # top_features = abs_loadings.idxmax()\n",
    "# # top_features_values = abs_loadings.max()\n",
    "\n",
    "# # # Combine into a DataFrame for easier analysis\n",
    "# # top_features_df = pd.DataFrame({\n",
    "# #     \"Top Feature\": top_features,\n",
    "# #     \"Max Loading\": top_features_values,\n",
    "# # })\n",
    "\n",
    "# # top_features_df.sort_values(by='Max Loading', ascending=False).head(10)"
   ]
  },
  {
   "cell_type": "code",
   "execution_count": 20,
   "id": "056cd7b2",
   "metadata": {
    "execution": {
     "iopub.execute_input": "2024-12-22T11:10:47.768016Z",
     "iopub.status.busy": "2024-12-22T11:10:47.767509Z",
     "iopub.status.idle": "2024-12-22T11:10:47.773529Z",
     "shell.execute_reply": "2024-12-22T11:10:47.772062Z"
    },
    "jupyter": {
     "source_hidden": true
    },
    "papermill": {
     "duration": 0.018924,
     "end_time": "2024-12-22T11:10:47.776214",
     "exception": false,
     "start_time": "2024-12-22T11:10:47.757290",
     "status": "completed"
    },
    "tags": []
   },
   "outputs": [],
   "source": [
    "# # Define threshold for high loading\n",
    "# threshold = 0.3\n",
    "\n",
    "# # Initialize a new DataFrame for the generated features\n",
    "# new_features = pd.DataFrame(index=loadings.index)\n",
    "\n",
    "# # Iterate through principal components\n",
    "# for pc in loadings.columns:\n",
    "#     # Create a binary feature for high loading\n",
    "#     new_features[f\"{pc}_high_loading\"] = (loadings[pc].abs() > threshold).astype(int) * loadings[pc]\n",
    "\n",
    "# # Optionally, aggregate rows with high loadings (e.g., mean of high-loading values)\n",
    "# high_loading_means = loadings[loadings.abs() > threshold].mean(axis=1)\n",
    "# new_features[\"high_loading_mean\"] = high_loading_means\n",
    "\n",
    "# # print(\"Original Loadings:\")\n",
    "# # print(loadings)\n",
    "\n",
    "# print(\"\\nGenerated Features:\")\n",
    "# new_features\n",
    "\n",
    "# def features(df, loadings=new_features):\n",
    "#     for i in loadings:\n",
    "#         df[i] = 0\n",
    "#         for index, j in enumerate(loadings[i]):\n",
    "#             df[i] += df[loadings.index[index]] * j\n",
    "#     return df"
   ]
  },
  {
   "cell_type": "code",
   "execution_count": 21,
   "id": "50f3a1f5",
   "metadata": {
    "execution": {
     "iopub.execute_input": "2024-12-22T11:10:47.795732Z",
     "iopub.status.busy": "2024-12-22T11:10:47.795287Z",
     "iopub.status.idle": "2024-12-22T11:10:47.801309Z",
     "shell.execute_reply": "2024-12-22T11:10:47.800194Z"
    },
    "jupyter": {
     "source_hidden": true
    },
    "papermill": {
     "duration": 0.018415,
     "end_time": "2024-12-22T11:10:47.803569",
     "exception": false,
     "start_time": "2024-12-22T11:10:47.785154",
     "status": "completed"
    },
    "tags": []
   },
   "outputs": [],
   "source": [
    "# class FeatureCreator(BaseEstimator, TransformerMixin):\n",
    "#     def __init__(self, column_transformer):\n",
    "#         self.column_transformer = column_transformer\n",
    "    \n",
    "#     def fit(self, X, y=None):\n",
    "#         self.column_transformer.fit(X, y)\n",
    "#         # Get the output column names\n",
    "#         self.feature_names = self.get_feature_names_out(X)\n",
    "#         return self\n",
    "    \n",
    "#     def transform(self, X, loadings=new_features):\n",
    "#         X_transformed = self.column_transformer.transform(X)\n",
    "#         X = pd.DataFrame(X_transformed, columns=self.feature_names, index=X.index)\n",
    "\n",
    "#         # for i in loadings:\n",
    "#         #     X[i] = 0\n",
    "#         #     for index, j in enumerate(loadings[i]):\n",
    "#         #         X[i] += X[loadings.index[index]] * j\n",
    "#         return feature_engineering(X)\n",
    "    \n",
    "#     def get_feature_names_out(self, X):\n",
    "#         \"\"\"Extract feature names from the column transformer.\"\"\"\n",
    "#         output_features = []\n",
    "#         for name, transformer, columns in self.column_transformer.transformers_:\n",
    "#             if transformer == \"drop\":\n",
    "#                 continue\n",
    "#             elif transformer == \"passthrough\":\n",
    "#                 output_features.extend(columns)\n",
    "#             else:\n",
    "#                 # Handle transformers like OneHotEncoder\n",
    "#                 if hasattr(transformer, \"get_feature_names_out\"):\n",
    "#                     feature_names = transformer.get_feature_names_out(columns)\n",
    "#                     output_features.extend(feature_names)\n",
    "#                 else:\n",
    "#                     output_features.extend(columns)\n",
    "#         return output_features"
   ]
  },
  {
   "cell_type": "code",
   "execution_count": 22,
   "id": "c473c13f",
   "metadata": {
    "execution": {
     "iopub.execute_input": "2024-12-22T11:10:47.824091Z",
     "iopub.status.busy": "2024-12-22T11:10:47.823638Z",
     "iopub.status.idle": "2024-12-22T11:10:47.829082Z",
     "shell.execute_reply": "2024-12-22T11:10:47.827804Z"
    },
    "jupyter": {
     "source_hidden": true
    },
    "papermill": {
     "duration": 0.018946,
     "end_time": "2024-12-22T11:10:47.831506",
     "exception": false,
     "start_time": "2024-12-22T11:10:47.812560",
     "status": "completed"
    },
    "tags": []
   },
   "outputs": [],
   "source": [
    "# X_ = im_X[numerical_cols].copy()\n",
    "# y_ = y\n",
    "# X_ = X_.loc[:, high_corr_features]\n",
    "\n",
    "# # `apply_pca`, defined above, reproduces the code from the tutorial\n",
    "# pca, X_pca, loadings = apply_pca(X_)\n",
    "# X_pca.index = X_.index\n",
    "# X_pca"
   ]
  },
  {
   "cell_type": "code",
   "execution_count": 23,
   "id": "470abce4",
   "metadata": {
    "execution": {
     "iopub.execute_input": "2024-12-22T11:10:47.851370Z",
     "iopub.status.busy": "2024-12-22T11:10:47.850921Z",
     "iopub.status.idle": "2024-12-22T11:10:47.857256Z",
     "shell.execute_reply": "2024-12-22T11:10:47.856192Z"
    },
    "jupyter": {
     "source_hidden": true
    },
    "papermill": {
     "duration": 0.018823,
     "end_time": "2024-12-22T11:10:47.859418",
     "exception": false,
     "start_time": "2024-12-22T11:10:47.840595",
     "status": "completed"
    },
    "tags": []
   },
   "outputs": [],
   "source": [
    "def get_score(n_estimators):\n",
    "    \"\"\"Return the average MAE over 3 CV folds of random forest model.\n",
    "    \n",
    "    Keyword argument:\n",
    "    n_estimators -- the number of trees in the forest\n",
    "    \"\"\"\n",
    "    my_pipeline = Pipeline(steps=[\n",
    "        ('preprocessor', preprocessor),\n",
    "        ('model', model)\n",
    "    ])\n",
    "    scores = -1 * cross_val_score(my_pipeline, X, y,\n",
    "                              cv=3,\n",
    "                              scoring='neg_mean_absolute_error')\n",
    "    print(scores)\n",
    "    return scores.mean()"
   ]
  },
  {
   "cell_type": "code",
   "execution_count": 24,
   "id": "2e7ecd8a",
   "metadata": {
    "execution": {
     "iopub.execute_input": "2024-12-22T11:10:47.878985Z",
     "iopub.status.busy": "2024-12-22T11:10:47.878583Z",
     "iopub.status.idle": "2024-12-22T11:10:47.883872Z",
     "shell.execute_reply": "2024-12-22T11:10:47.882668Z"
    },
    "jupyter": {
     "source_hidden": true
    },
    "papermill": {
     "duration": 0.017833,
     "end_time": "2024-12-22T11:10:47.886125",
     "exception": false,
     "start_time": "2024-12-22T11:10:47.868292",
     "status": "completed"
    },
    "tags": []
   },
   "outputs": [],
   "source": [
    "# loadings = pd.DataFrame(\n",
    "#     pca.components_.T,  # transpose the matrix of loadings\n",
    "#     columns=component_names,  # so the columns are the principal components\n",
    "#     index=im_X_scaled.columns,  # and the rows are the original features\n",
    "# )\n",
    "# sns.heatmap(loadings)\n",
    "# loadings"
   ]
  },
  {
   "cell_type": "code",
   "execution_count": 25,
   "id": "8ed4706f",
   "metadata": {
    "execution": {
     "iopub.execute_input": "2024-12-22T11:10:47.906006Z",
     "iopub.status.busy": "2024-12-22T11:10:47.905589Z",
     "iopub.status.idle": "2024-12-22T11:10:47.910862Z",
     "shell.execute_reply": "2024-12-22T11:10:47.909677Z"
    },
    "jupyter": {
     "source_hidden": true
    },
    "papermill": {
     "duration": 0.017909,
     "end_time": "2024-12-22T11:10:47.913131",
     "exception": false,
     "start_time": "2024-12-22T11:10:47.895222",
     "status": "completed"
    },
    "tags": []
   },
   "outputs": [],
   "source": [
    "# cv = StratifiedKFold(n_splits = 5, random_state = 42, shuffle = True)\n",
    "# for train_idx, val_idx in cv.split(X, y):\n",
    "#     # print(train_idx)\n",
    "#     # print(val_idx)\n",
    "#     X_train, X_val = X.iloc[train_idx], X.iloc[val_idx]\n",
    "#     y_train, y_val = y.iloc[train_idx], y.iloc[val_idx]\n",
    "#     pipeline = Pipeline(steps=[('preprocessor', preprocessor),\n",
    "#                       ('model', model)\n",
    "#                      ])\n",
    "#     pipeline.fit(train_X, train_y)\n",
    "#     preds = pipeline.predict(val_X)\n",
    "#     # print(preds)\n",
    "#     print('kappa:', cohen_kappa_score(preds.round(), val_y, weights='quadratic'))"
   ]
  },
  {
   "cell_type": "code",
   "execution_count": 26,
   "id": "ec9b6bd3",
   "metadata": {
    "execution": {
     "iopub.execute_input": "2024-12-22T11:10:47.932445Z",
     "iopub.status.busy": "2024-12-22T11:10:47.932043Z",
     "iopub.status.idle": "2024-12-22T11:10:47.938397Z",
     "shell.execute_reply": "2024-12-22T11:10:47.937209Z"
    },
    "jupyter": {
     "source_hidden": true
    },
    "papermill": {
     "duration": 0.018695,
     "end_time": "2024-12-22T11:10:47.940665",
     "exception": false,
     "start_time": "2024-12-22T11:10:47.921970",
     "status": "completed"
    },
    "tags": []
   },
   "outputs": [],
   "source": [
    "# # Preprocessing for numerical data\n",
    "# numerical_transformer = Pipeline(steps=[\n",
    "#     ('imputer', SimpleImputer(strategy='mean')),\n",
    "#     # ('scaler', StandardScaler())\n",
    "# ])\n",
    "\n",
    "# # Preprocessing for categorical data\n",
    "# categorical_transformer = Pipeline(steps=[\n",
    "#     ('imputer', SimpleImputer(strategy='most_frequent')),\n",
    "#     ('onehot', OneHotEncoder())\n",
    "# ])\n",
    "\n",
    "# # Bundle preprocessing for numerical and categorical data\n",
    "# preprocessor = ColumnTransformer(\n",
    "#     transformers=[\n",
    "#         ('num', numerical_transformer, numerical_cols),\n",
    "#         ('cat', categorical_transformer, categorical_cols)\n",
    "#     ]\n",
    "# )\n",
    "\n",
    "# # Define model\n",
    "# model = XGBRegressor(n_estimators=1000, random_state=0)\n",
    "# voting_regressor = VotingRegressor(estimators=[\n",
    "#     ('lightgbm', LGBMRegressor()),\n",
    "#     ('xgboost', XGBRegressor()),\n",
    "#     ('catboost', CatBoostRegressor())\n",
    "# ])\n",
    "# # Bundle preprocessing and modeling code in a pipeline\n",
    "# pipeline = Pipeline(steps=[\n",
    "#     ('preprocessor', preprocessor),\n",
    "#     ('model', voting_regressor)\n",
    "# ])\n",
    "\n",
    "# # scores = -1 * cross_val_score(pipeline, X[cols], y, cv=5, scoring='neg_mean_absolute_error')\n",
    "\n",
    "# # print('MAE scores:\\n', scores.mean())\n",
    "\n",
    "# val_X_preprocessed = pipeline.named_steps['preprocessor'].fit_transform(val_X)\n",
    "# # test_set_preprocessed = pipeline.named_steps['preprocessor'].fit_transform(test_set)\n",
    "\n",
    "# # Preprocessing of training data, fit model \n",
    "# pipeline.fit(\n",
    "#     train_X, train_y,\n",
    "#     # X, y,\n",
    "#     # im_X, y,\n",
    "#     # model__eval_set=[(val_X_preprocessed, val_y)],\n",
    "# )\n",
    "# # plt.figure(figsize=(100, 10))\n",
    "# # plot_importance(model, max_num_features=10)\n",
    "# # Preprocessing of validation data, get predictions\n",
    "# preds = pipeline.predict(val_X)\n",
    "# score = pipeline.score(val_X, val_y)\n",
    "\n",
    "# # print('kappa:', cohen_kappa_score(preds.round().clip(0, 3), val_y, weights='quadratic'))\n",
    "# print(cohen_kappa_score(get_sii(preds), get_sii(val_y), weights='quadratic'))\n",
    "# score"
   ]
  },
  {
   "cell_type": "code",
   "execution_count": 27,
   "id": "83a22599",
   "metadata": {
    "execution": {
     "iopub.execute_input": "2024-12-22T11:10:47.960008Z",
     "iopub.status.busy": "2024-12-22T11:10:47.959490Z",
     "iopub.status.idle": "2024-12-22T11:10:47.964634Z",
     "shell.execute_reply": "2024-12-22T11:10:47.963697Z"
    },
    "papermill": {
     "duration": 0.01735,
     "end_time": "2024-12-22T11:10:47.966812",
     "exception": false,
     "start_time": "2024-12-22T11:10:47.949462",
     "status": "completed"
    },
    "tags": []
   },
   "outputs": [],
   "source": [
    "# pipeline.predict(test_set)"
   ]
  },
  {
   "cell_type": "code",
   "execution_count": 28,
   "id": "c88272d0",
   "metadata": {
    "execution": {
     "iopub.execute_input": "2024-12-22T11:10:47.986177Z",
     "iopub.status.busy": "2024-12-22T11:10:47.985644Z",
     "iopub.status.idle": "2024-12-22T11:10:47.990714Z",
     "shell.execute_reply": "2024-12-22T11:10:47.989531Z"
    },
    "papermill": {
     "duration": 0.017494,
     "end_time": "2024-12-22T11:10:47.993048",
     "exception": false,
     "start_time": "2024-12-22T11:10:47.975554",
     "status": "completed"
    },
    "tags": []
   },
   "outputs": [],
   "source": [
    "# cohen_kappa_score(preds.round().clip(0, 3), val_y, weights='quadratic')"
   ]
  },
  {
   "cell_type": "code",
   "execution_count": 29,
   "id": "0c6be460",
   "metadata": {
    "execution": {
     "iopub.execute_input": "2024-12-22T11:10:48.013827Z",
     "iopub.status.busy": "2024-12-22T11:10:48.012764Z",
     "iopub.status.idle": "2024-12-22T11:10:48.017714Z",
     "shell.execute_reply": "2024-12-22T11:10:48.016593Z"
    },
    "jupyter": {
     "source_hidden": true
    },
    "papermill": {
     "duration": 0.017962,
     "end_time": "2024-12-22T11:10:48.019920",
     "exception": false,
     "start_time": "2024-12-22T11:10:48.001958",
     "status": "completed"
    },
    "tags": []
   },
   "outputs": [],
   "source": [
    "# importances = model.feature_importances_\n",
    "# indices = np.argsort(importances)[::-1]\n",
    "\n",
    "# plt.figure(figsize=(20, 5))\n",
    "# plt.title(\"Feature Importances\")\n",
    "# plt.bar(range(val_X_preprocessed.shape[1]), importances[indices], color=\"r\", align=\"center\")\n",
    "# plt.xticks(range(val_X_preprocessed.shape[1]), [val_X.columns[i] for i in indices], rotation=90)\n",
    "# plt.xlim([-1, val_X_preprocessed.shape[1]])\n",
    "# plt.show()"
   ]
  },
  {
   "cell_type": "code",
   "execution_count": 30,
   "id": "9b2916c2",
   "metadata": {
    "execution": {
     "iopub.execute_input": "2024-12-22T11:10:48.039060Z",
     "iopub.status.busy": "2024-12-22T11:10:48.038627Z",
     "iopub.status.idle": "2024-12-22T11:10:48.043620Z",
     "shell.execute_reply": "2024-12-22T11:10:48.042453Z"
    },
    "papermill": {
     "duration": 0.017458,
     "end_time": "2024-12-22T11:10:48.046191",
     "exception": false,
     "start_time": "2024-12-22T11:10:48.028733",
     "status": "completed"
    },
    "tags": []
   },
   "outputs": [],
   "source": [
    "# preds.round().astype(int)"
   ]
  },
  {
   "cell_type": "code",
   "execution_count": 31,
   "id": "4118ffff",
   "metadata": {
    "execution": {
     "iopub.execute_input": "2024-12-22T11:10:48.066738Z",
     "iopub.status.busy": "2024-12-22T11:10:48.066376Z",
     "iopub.status.idle": "2024-12-22T11:10:48.072059Z",
     "shell.execute_reply": "2024-12-22T11:10:48.070898Z"
    },
    "papermill": {
     "duration": 0.018485,
     "end_time": "2024-12-22T11:10:48.074512",
     "exception": false,
     "start_time": "2024-12-22T11:10:48.056027",
     "status": "completed"
    },
    "tags": []
   },
   "outputs": [],
   "source": [
    "# # Save test predictions to file\n",
    "# output = pd.DataFrame({'id': test.id.values,\n",
    "#                        'sii': preds.round().astype(int)})\n",
    "# output.to_csv('submission.csv', index=False)"
   ]
  }
 ],
 "metadata": {
  "kaggle": {
   "accelerator": "none",
   "dataSources": [
    {
     "databundleVersionId": 9643020,
     "sourceId": 81933,
     "sourceType": "competition"
    }
   ],
   "dockerImageVersionId": 30786,
   "isGpuEnabled": false,
   "isInternetEnabled": false,
   "language": "python",
   "sourceType": "notebook"
  },
  "kernelspec": {
   "display_name": "Python 3",
   "language": "python",
   "name": "python3"
  },
  "language_info": {
   "codemirror_mode": {
    "name": "ipython",
    "version": 3
   },
   "file_extension": ".py",
   "mimetype": "text/x-python",
   "name": "python",
   "nbconvert_exporter": "python",
   "pygments_lexer": "ipython3",
   "version": "3.10.14"
  },
  "papermill": {
   "default_parameters": {},
   "duration": 18.898505,
   "end_time": "2024-12-22T11:10:48.907400",
   "environment_variables": {},
   "exception": null,
   "input_path": "__notebook__.ipynb",
   "output_path": "__notebook__.ipynb",
   "parameters": {},
   "start_time": "2024-12-22T11:10:30.008895",
   "version": "2.6.0"
  }
 },
 "nbformat": 4,
 "nbformat_minor": 5
}
